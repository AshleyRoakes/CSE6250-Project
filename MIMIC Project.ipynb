{
 "cells": [
  {
   "cell_type": "code",
   "execution_count": 12,
   "id": "a331de94",
   "metadata": {},
   "outputs": [],
   "source": [
    "import pandas as pd\n",
    "import matplotlib.pyplot as plt\n",
    "import numpy as np\n",
    "import re\n",
    "from nltk.tag import StanfordPOSTagger\n",
    "from nltk import word_tokenize\n",
    "from nltk.internals import find_jars_within_path\n",
    "import nltk\n",
    "import sklearn.model_selection\n",
    "from collections import Counter\n",
    "import sklearn.feature_extraction.text as skt\n",
    "from sklearn.feature_extraction.text import CountVectorizer\n",
    "from nltk.tokenize import sent_tokenize, word_tokenize\n",
    "import gensim\n",
    "from gensim.models import Word2Vec\n",
    "import io\n",
    "import re\n",
    "import string\n",
    "import tqdm\n",
    "#import tensorflow as tf\n",
    "#from tensorflow.keras import layers\n",
    "\n",
    "#import torch\n",
    "#import transformers\n",
    "\n",
    "import pyhealth\n",
    "from pyhealth.medcode import InnerMap\n",
    "from sklearn.feature_extraction.text import TfidfVectorizer\n",
    "from sklearn.feature_extraction.text import CountVectorizer\n",
    "import nltk\n",
    "#nltk.download('stopwords')\n",
    "from nltk.corpus import stopwords as STOP_WORDS\n",
    "\n",
    "from sklearn.linear_model import LogisticRegression\n",
    "\n",
    "from sklearn import metrics\n",
    "from sklearn.metrics import f1_score\n",
    "\n",
    "import gensim.models.word2vec as w2v\n",
    "\n",
    "# from transformers import AutoTokenizer, AutoModel\n",
    "# tokenizer = AutoTokenizer.from_pretrained(\"emilyalsentzer/Bio_ClinicalBERT\")\n",
    "# model = AutoModel.from_pretrained(\"emilyalsentzer/Bio_ClinicalBERT\")\n",
    "\n",
    "# import tensorflow as tf\n",
    "# import torch\n",
    "# from tensorflow.keras import layers\n"
   ]
  },
  {
   "cell_type": "code",
   "execution_count": 14,
   "id": "0c542936",
   "metadata": {},
   "outputs": [],
   "source": [
    "root = \"/Users/ashleyroakes/Desktop/\"\n",
    "#root = \"C:/Users/mab28/Documents/Workspace/School/CSE 6250 Big Data Health/project/our_code/data/\"\n",
    "\n",
    "mim_root = root + \"mimic-iii-clinical-database-1.4/\"\n"
   ]
  },
  {
   "cell_type": "markdown",
   "id": "76b7b726",
   "metadata": {},
   "source": [
    "# Data Pre-processing\n",
    "## Read in Discharge Notes"
   ]
  },
  {
   "cell_type": "code",
   "execution_count": 15,
   "id": "9078a11e",
   "metadata": {},
   "outputs": [
    {
     "name": "stderr",
     "output_type": "stream",
     "text": [
      "<ipython-input-15-44e46582d5d0>:3: FutureWarning: The error_bad_lines argument has been deprecated and will be removed in a future version. Use on_bad_lines in the future.\n",
      "\n",
      "\n",
      "  notes_df = pd.read_csv(notes, compression='gzip', error_bad_lines=False,\n"
     ]
    },
    {
     "name": "stdout",
     "output_type": "stream",
     "text": [
      "Number of discharge summaries:  55177\n"
     ]
    },
    {
     "data": {
      "text/html": [
       "<div>\n",
       "<style scoped>\n",
       "    .dataframe tbody tr th:only-of-type {\n",
       "        vertical-align: middle;\n",
       "    }\n",
       "\n",
       "    .dataframe tbody tr th {\n",
       "        vertical-align: top;\n",
       "    }\n",
       "\n",
       "    .dataframe thead th {\n",
       "        text-align: right;\n",
       "    }\n",
       "</style>\n",
       "<table border=\"1\" class=\"dataframe\">\n",
       "  <thead>\n",
       "    <tr style=\"text-align: right;\">\n",
       "      <th></th>\n",
       "      <th>SUBJECT_ID</th>\n",
       "      <th>HADM_ID</th>\n",
       "      <th>CATEGORY</th>\n",
       "      <th>DESCRIPTION</th>\n",
       "      <th>TEXT</th>\n",
       "    </tr>\n",
       "  </thead>\n",
       "  <tbody>\n",
       "    <tr>\n",
       "      <th>0</th>\n",
       "      <td>22532</td>\n",
       "      <td>167853.0</td>\n",
       "      <td>Discharge summary</td>\n",
       "      <td>Report</td>\n",
       "      <td>Admission Date:  [**2151-7-16**]       Dischar...</td>\n",
       "    </tr>\n",
       "    <tr>\n",
       "      <th>1</th>\n",
       "      <td>13702</td>\n",
       "      <td>107527.0</td>\n",
       "      <td>Discharge summary</td>\n",
       "      <td>Report</td>\n",
       "      <td>Admission Date:  [**2118-6-2**]       Discharg...</td>\n",
       "    </tr>\n",
       "    <tr>\n",
       "      <th>2</th>\n",
       "      <td>13702</td>\n",
       "      <td>167118.0</td>\n",
       "      <td>Discharge summary</td>\n",
       "      <td>Report</td>\n",
       "      <td>Admission Date:  [**2119-5-4**]              D...</td>\n",
       "    </tr>\n",
       "    <tr>\n",
       "      <th>3</th>\n",
       "      <td>13702</td>\n",
       "      <td>196489.0</td>\n",
       "      <td>Discharge summary</td>\n",
       "      <td>Report</td>\n",
       "      <td>Admission Date:  [**2124-7-21**]              ...</td>\n",
       "    </tr>\n",
       "    <tr>\n",
       "      <th>4</th>\n",
       "      <td>26880</td>\n",
       "      <td>135453.0</td>\n",
       "      <td>Discharge summary</td>\n",
       "      <td>Report</td>\n",
       "      <td>Admission Date:  [**2162-3-3**]              D...</td>\n",
       "    </tr>\n",
       "  </tbody>\n",
       "</table>\n",
       "</div>"
      ],
      "text/plain": [
       "   SUBJECT_ID   HADM_ID           CATEGORY DESCRIPTION  \\\n",
       "0       22532  167853.0  Discharge summary      Report   \n",
       "1       13702  107527.0  Discharge summary      Report   \n",
       "2       13702  167118.0  Discharge summary      Report   \n",
       "3       13702  196489.0  Discharge summary      Report   \n",
       "4       26880  135453.0  Discharge summary      Report   \n",
       "\n",
       "                                                TEXT  \n",
       "0  Admission Date:  [**2151-7-16**]       Dischar...  \n",
       "1  Admission Date:  [**2118-6-2**]       Discharg...  \n",
       "2  Admission Date:  [**2119-5-4**]              D...  \n",
       "3  Admission Date:  [**2124-7-21**]              ...  \n",
       "4  Admission Date:  [**2162-3-3**]              D...  "
      ]
     },
     "execution_count": 15,
     "metadata": {},
     "output_type": "execute_result"
    }
   ],
   "source": [
    "notes = mim_root + \"NOTEEVENTS.csv.gz\"\n",
    "\n",
    "notes_df = pd.read_csv(notes, compression='gzip', error_bad_lines=False, \n",
    "                       usecols = ['SUBJECT_ID', 'HADM_ID', 'CATEGORY', 'DESCRIPTION','TEXT'])\\\n",
    "                      .query(\"CATEGORY == 'Discharge summary'\")\\\n",
    "                      .query(\"DESCRIPTION == 'Report'\")\n",
    "\n",
    "# Should be 55,177 records\n",
    "print(\"Number of discharge summaries: \", + len(notes_df))\n",
    "\n",
    "notes_df.head()"
   ]
  },
  {
   "cell_type": "markdown",
   "id": "757857a9",
   "metadata": {},
   "source": [
    "## Read in Patient Diagnoses"
   ]
  },
  {
   "cell_type": "code",
   "execution_count": 16,
   "id": "e16993f5",
   "metadata": {},
   "outputs": [
    {
     "name": "stderr",
     "output_type": "stream",
     "text": [
      "<ipython-input-16-9a3e874e7dee>:3: FutureWarning: The error_bad_lines argument has been deprecated and will be removed in a future version. Use on_bad_lines in the future.\n",
      "\n",
      "\n",
      "  diag_df = pd.read_csv(diag, compression='gzip', error_bad_lines=False)\\\n"
     ]
    },
    {
     "data": {
      "text/html": [
       "<div>\n",
       "<style scoped>\n",
       "    .dataframe tbody tr th:only-of-type {\n",
       "        vertical-align: middle;\n",
       "    }\n",
       "\n",
       "    .dataframe tbody tr th {\n",
       "        vertical-align: top;\n",
       "    }\n",
       "\n",
       "    .dataframe thead th {\n",
       "        text-align: right;\n",
       "    }\n",
       "</style>\n",
       "<table border=\"1\" class=\"dataframe\">\n",
       "  <thead>\n",
       "    <tr style=\"text-align: right;\">\n",
       "      <th></th>\n",
       "      <th>HADM_ID</th>\n",
       "      <th>ICD9_CODE</th>\n",
       "    </tr>\n",
       "  </thead>\n",
       "  <tbody>\n",
       "    <tr>\n",
       "      <th>0</th>\n",
       "      <td>100001</td>\n",
       "      <td>[25013, 3371, 5849, 5780, V5867, 25063, 5363, ...</td>\n",
       "    </tr>\n",
       "    <tr>\n",
       "      <th>1</th>\n",
       "      <td>100003</td>\n",
       "      <td>[53100, 2851, 07054, 5715, 45621, 53789, 4019,...</td>\n",
       "    </tr>\n",
       "    <tr>\n",
       "      <th>2</th>\n",
       "      <td>100006</td>\n",
       "      <td>[49320, 51881, 486, 20300, 2761, 7850, 3090, V...</td>\n",
       "    </tr>\n",
       "    <tr>\n",
       "      <th>3</th>\n",
       "      <td>100007</td>\n",
       "      <td>[56081, 5570, 9973, 486, 4019]</td>\n",
       "    </tr>\n",
       "    <tr>\n",
       "      <th>4</th>\n",
       "      <td>100009</td>\n",
       "      <td>[41401, 99604, 4142, 25000, 27800, V8535, 4148...</td>\n",
       "    </tr>\n",
       "  </tbody>\n",
       "</table>\n",
       "</div>"
      ],
      "text/plain": [
       "   HADM_ID                                          ICD9_CODE\n",
       "0   100001  [25013, 3371, 5849, 5780, V5867, 25063, 5363, ...\n",
       "1   100003  [53100, 2851, 07054, 5715, 45621, 53789, 4019,...\n",
       "2   100006  [49320, 51881, 486, 20300, 2761, 7850, 3090, V...\n",
       "3   100007                     [56081, 5570, 9973, 486, 4019]\n",
       "4   100009  [41401, 99604, 4142, 25000, 27800, V8535, 4148..."
      ]
     },
     "execution_count": 16,
     "metadata": {},
     "output_type": "execute_result"
    }
   ],
   "source": [
    "diag = mim_root + \"DIAGNOSES_ICD.csv.gz\"\n",
    "\n",
    "diag_df = pd.read_csv(diag, compression='gzip', error_bad_lines=False)\\\n",
    "                    .dropna()\\\n",
    "                    .groupby('HADM_ID')['ICD9_CODE']\\\n",
    "                    .unique()\\\n",
    "                    .reset_index()\n",
    "\n",
    "diag_df.head()"
   ]
  },
  {
   "cell_type": "markdown",
   "id": "5befa018",
   "metadata": {},
   "source": [
    "## Read in ICD9 Dictionary"
   ]
  },
  {
   "cell_type": "code",
   "execution_count": 17,
   "id": "9e7e3472",
   "metadata": {},
   "outputs": [
    {
     "name": "stderr",
     "output_type": "stream",
     "text": [
      "<ipython-input-17-fb0e33a27e31>:2: FutureWarning: The error_bad_lines argument has been deprecated and will be removed in a future version. Use on_bad_lines in the future.\n",
      "\n",
      "\n",
      "  icd_df = pd.read_csv(icd, compression='gzip', error_bad_lines=False)\n"
     ]
    },
    {
     "data": {
      "text/html": [
       "<div>\n",
       "<style scoped>\n",
       "    .dataframe tbody tr th:only-of-type {\n",
       "        vertical-align: middle;\n",
       "    }\n",
       "\n",
       "    .dataframe tbody tr th {\n",
       "        vertical-align: top;\n",
       "    }\n",
       "\n",
       "    .dataframe thead th {\n",
       "        text-align: right;\n",
       "    }\n",
       "</style>\n",
       "<table border=\"1\" class=\"dataframe\">\n",
       "  <thead>\n",
       "    <tr style=\"text-align: right;\">\n",
       "      <th></th>\n",
       "      <th>ROW_ID</th>\n",
       "      <th>ICD9_CODE</th>\n",
       "      <th>SHORT_TITLE</th>\n",
       "      <th>LONG_TITLE</th>\n",
       "    </tr>\n",
       "  </thead>\n",
       "  <tbody>\n",
       "    <tr>\n",
       "      <th>0</th>\n",
       "      <td>174</td>\n",
       "      <td>01166</td>\n",
       "      <td>TB pneumonia-oth test</td>\n",
       "      <td>Tuberculous pneumonia [any form], tubercle bac...</td>\n",
       "    </tr>\n",
       "    <tr>\n",
       "      <th>1</th>\n",
       "      <td>175</td>\n",
       "      <td>01170</td>\n",
       "      <td>TB pneumothorax-unspec</td>\n",
       "      <td>Tuberculous pneumothorax, unspecified</td>\n",
       "    </tr>\n",
       "    <tr>\n",
       "      <th>2</th>\n",
       "      <td>176</td>\n",
       "      <td>01171</td>\n",
       "      <td>TB pneumothorax-no exam</td>\n",
       "      <td>Tuberculous pneumothorax, bacteriological or h...</td>\n",
       "    </tr>\n",
       "    <tr>\n",
       "      <th>3</th>\n",
       "      <td>177</td>\n",
       "      <td>01172</td>\n",
       "      <td>TB pneumothorx-exam unkn</td>\n",
       "      <td>Tuberculous pneumothorax, bacteriological or h...</td>\n",
       "    </tr>\n",
       "    <tr>\n",
       "      <th>4</th>\n",
       "      <td>178</td>\n",
       "      <td>01173</td>\n",
       "      <td>TB pneumothorax-micro dx</td>\n",
       "      <td>Tuberculous pneumothorax, tubercle bacilli fou...</td>\n",
       "    </tr>\n",
       "  </tbody>\n",
       "</table>\n",
       "</div>"
      ],
      "text/plain": [
       "   ROW_ID ICD9_CODE               SHORT_TITLE  \\\n",
       "0     174     01166     TB pneumonia-oth test   \n",
       "1     175     01170    TB pneumothorax-unspec   \n",
       "2     176     01171   TB pneumothorax-no exam   \n",
       "3     177     01172  TB pneumothorx-exam unkn   \n",
       "4     178     01173  TB pneumothorax-micro dx   \n",
       "\n",
       "                                          LONG_TITLE  \n",
       "0  Tuberculous pneumonia [any form], tubercle bac...  \n",
       "1              Tuberculous pneumothorax, unspecified  \n",
       "2  Tuberculous pneumothorax, bacteriological or h...  \n",
       "3  Tuberculous pneumothorax, bacteriological or h...  \n",
       "4  Tuberculous pneumothorax, tubercle bacilli fou...  "
      ]
     },
     "execution_count": 17,
     "metadata": {},
     "output_type": "execute_result"
    }
   ],
   "source": [
    "icd = mim_root + \"D_ICD_DIAGNOSES.csv.gz\"\n",
    "icd_df = pd.read_csv(icd, compression='gzip', error_bad_lines=False)\n",
    "\n",
    "\n",
    "icd_df.head()"
   ]
  },
  {
   "cell_type": "markdown",
   "id": "425d7502",
   "metadata": {},
   "source": [
    "## Merge datasets by HADM_ID"
   ]
  },
  {
   "cell_type": "code",
   "execution_count": 18,
   "id": "eb8a4e03",
   "metadata": {},
   "outputs": [
    {
     "data": {
      "text/plain": [
       "55172"
      ]
     },
     "execution_count": 18,
     "metadata": {},
     "output_type": "execute_result"
    }
   ],
   "source": [
    "df = pd.merge(diag_df, notes_df, on='HADM_ID', how='inner')\n",
    "\n",
    "# Should be 55177-5 = 55172\n",
    "len(df)"
   ]
  },
  {
   "cell_type": "markdown",
   "id": "b193cbba",
   "metadata": {},
   "source": [
    "## Substitute special sequences & Filter HoPI sections"
   ]
  },
  {
   "cell_type": "markdown",
   "id": "08cb0055",
   "metadata": {},
   "source": [
    "### Identify HOPI sections & Substitute Special Sequences"
   ]
  },
  {
   "cell_type": "code",
   "execution_count": 19,
   "id": "9f357cce",
   "metadata": {},
   "outputs": [],
   "source": [
    "def process_notes(st):\n",
    "    s  = \"History of Present Illness\"\n",
    "    s1 = \"HISTORY OF PRESENT ILLNESS|HISTORY OF THE PRESENT ILLNESS|\\nHISTORY:|present illness|Present Illness|PRESENT ILLNESS\"\n",
    "    \n",
    "    match  = re.search(s, st)\n",
    "    match1 = re.search(s1, st)\n",
    "    \n",
    "    if (match is not None) or (match1 is not None):\n",
    "        if match is not None:\n",
    "            st = st.split(s, 1)[1]\n",
    "            e = \"\\n\\n\\n\"\n",
    "            n = st.split(e, 1)[0]\n",
    "    \n",
    "        elif match1 is not None: \n",
    "            st = st.split(match1[0], 1)[1]\n",
    "            e = re.search(r\"\\n[\\s\\w]+:\", st)[0]\n",
    "            n = st.split(e, 1)[0]\n",
    "        \n",
    "        # Replace special strings with \"\"\n",
    "        rep = re.findall(r\"\\[\\*\\*([a-zA-Z0-9]*)\", n)\n",
    "        strt = [m.start() for m in re.finditer(\"\\[\\*\\*([a-zA-Z0-9]*)\", n)]\n",
    "        end = [m.end() for m in re.finditer(\"([a-zA-Z0-9]*)\\*\\*\\]\", n)]\n",
    "\n",
    "        for i in range(len(rep)):\n",
    "            n = n[:strt[i]] + rep[i] + \" \" + n[end[i] + 1:]\n",
    "        \n",
    "    else: \n",
    "        n = ''\n",
    "    return n"
   ]
  },
  {
   "cell_type": "code",
   "execution_count": 20,
   "id": "991b1670",
   "metadata": {},
   "outputs": [
    {
     "name": "stdout",
     "output_type": "stream",
     "text": [
      "Number of docs missing HOPI sections: 1867\n"
     ]
    }
   ],
   "source": [
    "df['HOPI'] = df[\"TEXT\"].map(lambda t: process_notes(t))\n",
    "\n",
    "df[\"HOPI\"] = df[\"HOPI\"].apply(lambda x: re.sub('\\[\\*\\*[^\\]]*\\*\\*\\]', '', x))\n",
    "df[\"HOPI\"] = df[\"HOPI\"].apply(lambda x: re.sub('<[^>]*>', '', x))\n",
    "df[\"HOPI\"] = df[\"HOPI\"].apply(lambda x: re.sub('[\\W]+', ' ', x))\n",
    "\n",
    "# Detect history of present illness in text (n = 2641 records without HoPI data)\n",
    "missing = len(df[df['HOPI'] == \"\"])\n",
    "print(\"Number of docs missing HOPI sections: \" + str(missing))\n",
    "\n",
    "df = df[df[\"HOPI\"] != \"\"].reset_index(drop = True)\n",
    "df['SENT_TOKENS'] = df[\"HOPI\"].map(lambda t: [p.lower() for p in nltk.RegexpTokenizer(r'\\w+').tokenize(t) if not p.isnumeric()])\n"
   ]
  },
  {
   "cell_type": "code",
   "execution_count": 21,
   "id": "8a132416",
   "metadata": {},
   "outputs": [
    {
     "data": {
      "text/html": [
       "<div>\n",
       "<style scoped>\n",
       "    .dataframe tbody tr th:only-of-type {\n",
       "        vertical-align: middle;\n",
       "    }\n",
       "\n",
       "    .dataframe tbody tr th {\n",
       "        vertical-align: top;\n",
       "    }\n",
       "\n",
       "    .dataframe thead th {\n",
       "        text-align: right;\n",
       "    }\n",
       "</style>\n",
       "<table border=\"1\" class=\"dataframe\">\n",
       "  <thead>\n",
       "    <tr style=\"text-align: right;\">\n",
       "      <th></th>\n",
       "      <th>HADM_ID</th>\n",
       "      <th>ICD9_CODE</th>\n",
       "      <th>SUBJECT_ID</th>\n",
       "      <th>CATEGORY</th>\n",
       "      <th>DESCRIPTION</th>\n",
       "      <th>TEXT</th>\n",
       "      <th>HOPI</th>\n",
       "      <th>SENT_TOKENS</th>\n",
       "      <th>SENT_TOKENS_COMBO</th>\n",
       "    </tr>\n",
       "  </thead>\n",
       "  <tbody>\n",
       "    <tr>\n",
       "      <th>0</th>\n",
       "      <td>100001</td>\n",
       "      <td>[25013, 3371, 5849, 5780, V5867, 25063, 5363, ...</td>\n",
       "      <td>58526</td>\n",
       "      <td>Discharge summary</td>\n",
       "      <td>Report</td>\n",
       "      <td>Admission Date:  [**2117-9-11**]              ...</td>\n",
       "      <td>35F w poorly controlled Type 1 diabetes melli...</td>\n",
       "      <td>[325mg, 35f, 3l, 3rd, 4mg, 5d, a, ag, also, am...</td>\n",
       "      <td>325mg 35f 3l 3rd 4mg 5d a ag also am an and an...</td>\n",
       "    </tr>\n",
       "    <tr>\n",
       "      <th>1</th>\n",
       "      <td>100003</td>\n",
       "      <td>[53100, 2851, 07054, 5715, 45621, 53789, 4019,...</td>\n",
       "      <td>54610</td>\n",
       "      <td>Discharge summary</td>\n",
       "      <td>Report</td>\n",
       "      <td>Admission Date:  [**2150-4-17**]              ...</td>\n",
       "      <td>Mr Known is a 59M w HepC cirrhosis c b grade ...</td>\n",
       "      <td>[40mg, 4l, 59m, a, abdominal, about, abstain, ...</td>\n",
       "      <td>40mg 4l 59m a abdominal about abstain admissio...</td>\n",
       "    </tr>\n",
       "    <tr>\n",
       "      <th>2</th>\n",
       "      <td>100006</td>\n",
       "      <td>[49320, 51881, 486, 20300, 2761, 7850, 3090, V...</td>\n",
       "      <td>9895</td>\n",
       "      <td>Discharge summary</td>\n",
       "      <td>Report</td>\n",
       "      <td>Admission Date:  [**2108-4-6**]       Discharg...</td>\n",
       "      <td>This is a 48 year old African American female...</td>\n",
       "      <td>[a, abdominal, abg, admitted, african, ago, al...</td>\n",
       "      <td>a abdominal abg admitted african ago albuterol...</td>\n",
       "    </tr>\n",
       "    <tr>\n",
       "      <th>3</th>\n",
       "      <td>100007</td>\n",
       "      <td>[56081, 5570, 9973, 486, 4019]</td>\n",
       "      <td>23018</td>\n",
       "      <td>Discharge summary</td>\n",
       "      <td>Report</td>\n",
       "      <td>Admission Date:  [**2145-3-31**]              ...</td>\n",
       "      <td>Ms Known is a 73 year old female with a histo...</td>\n",
       "      <td>[a, abdominal, and, appendectomy, back, began,...</td>\n",
       "      <td>a abdominal and appendectomy back began bowel ...</td>\n",
       "    </tr>\n",
       "    <tr>\n",
       "      <th>4</th>\n",
       "      <td>100009</td>\n",
       "      <td>[41401, 99604, 4142, 25000, 27800, V8535, 4148...</td>\n",
       "      <td>533</td>\n",
       "      <td>Discharge summary</td>\n",
       "      <td>Report</td>\n",
       "      <td>Admission Date:  [**2162-5-16**]              ...</td>\n",
       "      <td>60yo man with known coronary disease AMI in 2...</td>\n",
       "      <td>[36mmhg, 60yo, a, admitted, ak, ami, and, angi...</td>\n",
       "      <td>36mmhg 60yo a admitted ak ami and angina anter...</td>\n",
       "    </tr>\n",
       "  </tbody>\n",
       "</table>\n",
       "</div>"
      ],
      "text/plain": [
       "   HADM_ID                                          ICD9_CODE  SUBJECT_ID  \\\n",
       "0   100001  [25013, 3371, 5849, 5780, V5867, 25063, 5363, ...       58526   \n",
       "1   100003  [53100, 2851, 07054, 5715, 45621, 53789, 4019,...       54610   \n",
       "2   100006  [49320, 51881, 486, 20300, 2761, 7850, 3090, V...        9895   \n",
       "3   100007                     [56081, 5570, 9973, 486, 4019]       23018   \n",
       "4   100009  [41401, 99604, 4142, 25000, 27800, V8535, 4148...         533   \n",
       "\n",
       "            CATEGORY DESCRIPTION  \\\n",
       "0  Discharge summary      Report   \n",
       "1  Discharge summary      Report   \n",
       "2  Discharge summary      Report   \n",
       "3  Discharge summary      Report   \n",
       "4  Discharge summary      Report   \n",
       "\n",
       "                                                TEXT  \\\n",
       "0  Admission Date:  [**2117-9-11**]              ...   \n",
       "1  Admission Date:  [**2150-4-17**]              ...   \n",
       "2  Admission Date:  [**2108-4-6**]       Discharg...   \n",
       "3  Admission Date:  [**2145-3-31**]              ...   \n",
       "4  Admission Date:  [**2162-5-16**]              ...   \n",
       "\n",
       "                                                HOPI  \\\n",
       "0   35F w poorly controlled Type 1 diabetes melli...   \n",
       "1   Mr Known is a 59M w HepC cirrhosis c b grade ...   \n",
       "2   This is a 48 year old African American female...   \n",
       "3   Ms Known is a 73 year old female with a histo...   \n",
       "4   60yo man with known coronary disease AMI in 2...   \n",
       "\n",
       "                                         SENT_TOKENS  \\\n",
       "0  [325mg, 35f, 3l, 3rd, 4mg, 5d, a, ag, also, am...   \n",
       "1  [40mg, 4l, 59m, a, abdominal, about, abstain, ...   \n",
       "2  [a, abdominal, abg, admitted, african, ago, al...   \n",
       "3  [a, abdominal, and, appendectomy, back, began,...   \n",
       "4  [36mmhg, 60yo, a, admitted, ak, ami, and, angi...   \n",
       "\n",
       "                                   SENT_TOKENS_COMBO  \n",
       "0  325mg 35f 3l 3rd 4mg 5d a ag also am an and an...  \n",
       "1  40mg 4l 59m a abdominal about abstain admissio...  \n",
       "2  a abdominal abg admitted african ago albuterol...  \n",
       "3  a abdominal and appendectomy back began bowel ...  \n",
       "4  36mmhg 60yo a admitted ak ami and angina anter...  "
      ]
     },
     "execution_count": 21,
     "metadata": {},
     "output_type": "execute_result"
    }
   ],
   "source": [
    "# Truncate to 500 tokens per HOPI\n",
    "df[\"SENT_TOKENS\"] = df[\"SENT_TOKENS\"].map(lambda c: np.unique(c)[0:500])\n",
    "\n",
    "df['SENT_TOKENS_COMBO'] = df[\"SENT_TOKENS\"].map(lambda t: \" \".join(t))\n",
    "df.head()"
   ]
  },
  {
   "cell_type": "code",
   "execution_count": 11,
   "id": "194ab1ec",
   "metadata": {},
   "outputs": [
    {
     "ename": "TypeError",
     "evalue": "__init__() got an unexpected keyword argument 'iter'",
     "output_type": "error",
     "traceback": [
      "\u001b[0;31m---------------------------------------------------------------------------\u001b[0m",
      "\u001b[0;31mTypeError\u001b[0m                                 Traceback (most recent call last)",
      "\u001b[0;32m<ipython-input-11-e3a4bb3f93b1>\u001b[0m in \u001b[0;36m<module>\u001b[0;34m\u001b[0m\n\u001b[1;32m      1\u001b[0m \u001b[0msentences\u001b[0m \u001b[0;34m=\u001b[0m \u001b[0mdf\u001b[0m\u001b[0;34m[\u001b[0m\u001b[0;34m'SENT_TOKENS_COMBO'\u001b[0m\u001b[0;34m]\u001b[0m\u001b[0;34m.\u001b[0m\u001b[0mmap\u001b[0m\u001b[0;34m(\u001b[0m\u001b[0;32mlambda\u001b[0m \u001b[0mt\u001b[0m\u001b[0;34m:\u001b[0m \u001b[0mt\u001b[0m\u001b[0;34m.\u001b[0m\u001b[0msplit\u001b[0m\u001b[0;34m(\u001b[0m\u001b[0;34m)\u001b[0m\u001b[0;34m)\u001b[0m\u001b[0;34m.\u001b[0m\u001b[0mvalues\u001b[0m\u001b[0;34m\u001b[0m\u001b[0;34m\u001b[0m\u001b[0m\n\u001b[1;32m      2\u001b[0m \u001b[0;34m\u001b[0m\u001b[0m\n\u001b[0;32m----> 3\u001b[0;31m \u001b[0mmodel\u001b[0m \u001b[0;34m=\u001b[0m \u001b[0mw2v\u001b[0m\u001b[0;34m.\u001b[0m\u001b[0mWord2Vec\u001b[0m\u001b[0;34m(\u001b[0m\u001b[0mvector_size\u001b[0m\u001b[0;34m=\u001b[0m\u001b[0;36m200\u001b[0m\u001b[0;34m,\u001b[0m \u001b[0mmin_count\u001b[0m\u001b[0;34m=\u001b[0m\u001b[0;36m5\u001b[0m\u001b[0;34m,\u001b[0m \u001b[0mworkers\u001b[0m\u001b[0;34m=\u001b[0m\u001b[0;36m4\u001b[0m\u001b[0;34m,\u001b[0m \u001b[0miter\u001b[0m\u001b[0;34m=\u001b[0m\u001b[0;36m5\u001b[0m\u001b[0;34m)\u001b[0m\u001b[0;34m\u001b[0m\u001b[0;34m\u001b[0m\u001b[0m\n\u001b[0m\u001b[1;32m      4\u001b[0m \u001b[0;34m\u001b[0m\u001b[0m\n\u001b[1;32m      5\u001b[0m \u001b[0mmodel\u001b[0m\u001b[0;34m.\u001b[0m\u001b[0mbuild_vocab\u001b[0m\u001b[0;34m(\u001b[0m\u001b[0msentences\u001b[0m\u001b[0;34m)\u001b[0m\u001b[0;34m\u001b[0m\u001b[0;34m\u001b[0m\u001b[0m\n",
      "\u001b[0;31mTypeError\u001b[0m: __init__() got an unexpected keyword argument 'iter'"
     ]
    }
   ],
   "source": [
    "sentences = df['SENT_TOKENS_COMBO'].map(lambda t: t.split()).values\n",
    "\n",
    "model = w2v.Word2Vec(vector_size=200, min_count=5, workers=4, iter=5)\n",
    "\n",
    "model.build_vocab(sentences)\n",
    "\n",
    "model.train(sentences, total_examples=model.corpus_count, epochs=model.iter)\n",
    "\n",
    "model.save('./model\\model.w2v')\n",
    "\n",
    "wv = model.wv\n",
    "\n",
    "vocab = model.wv.vocab\n",
    "\n",
    "ind2w = {i+1:w for i,w in enumerate(sorted(vocab))}\n",
    "\n",
    "PAD_CHAR = \"**PAD**\"\n",
    "\n",
    "def build_matrix(ind2w, wv):\n",
    "    W = np.zeros((len(ind2w)+1, len(wv.word_vec(wv.index2word[0])) ))\n",
    "    words = [PAD_CHAR]\n",
    "    W[0][:] = np.zeros(len(wv.word_vec(wv.index2word[0])))\n",
    "    for idx, word in ind2w.items():\n",
    "        if idx >= W.shape[0]:\n",
    "            break    \n",
    "        W[idx][:] = wv.word_vec(word)\n",
    "        words.append(word)\n",
    "    return W, words\n",
    "\n",
    "W, words = build_matrix(ind2w, wv)\n",
    "\n",
    "def save_embeddings(W, words, outfile):\n",
    "    with open(outfile, 'w') as o:\n",
    "        #pad token already included\n",
    "        for i in range(len(words)):\n",
    "            line = [words[i]]\n",
    "            line.extend([str(d) for d in W[i]])\n",
    "            o.write(\" \".join(line) + \"\\n\")\n",
    "\n",
    "outfile = './model\\model.embed'\n",
    "save_embeddings(W, words, outfile)\n"
   ]
  },
  {
   "cell_type": "code",
   "execution_count": null,
   "id": "a4c34972",
   "metadata": {},
   "outputs": [],
   "source": [
    "def load_embeddings(embed_file):\n",
    "    #also normalizes the embeddings\n",
    "    W = []\n",
    "    with open(embed_file) as ef:\n",
    "        for line in ef:\n",
    "            line = line.rstrip().split()\n",
    "            vec = np.array(line[1:]).astype(np.float)\n",
    "            vec = vec / float(np.linalg.norm(vec) + 1e-6)\n",
    "            W.append(vec)\n",
    "        #UNK embedding, gaussian randomly initialized \n",
    "        print(\"adding unk embedding\")\n",
    "        vec = np.random.randn(len(W[-1]))\n",
    "        vec = vec / float(np.linalg.norm(vec) + 1e-6)\n",
    "        W.append(vec)\n",
    "    W = np.array(W)\n",
    "    return W"
   ]
  },
  {
   "cell_type": "markdown",
   "id": "b841b468",
   "metadata": {},
   "source": [
    "## Plot a histogram of the Number of tokens in each HoPI document, after data preprocessing."
   ]
  },
  {
   "cell_type": "code",
   "execution_count": 22,
   "id": "3b72313d",
   "metadata": {},
   "outputs": [
    {
     "data": {
      "image/png": "[encoded data removed]",
      "text/plain": [
       "<Figure size 432x288 with 1 Axes>"
      ]
     },
     "metadata": {
      "needs_background": "light"
     },
     "output_type": "display_data"
    }
   ],
   "source": [
    "df[\"trunc_len\"] = df['SENT_TOKENS'].map(lambda c: len(c))\n",
    "\n",
    "plt.hist(df[\"trunc_len\"], np.arange(0, 501, 10))\n",
    "plt.xlabel(\"Number of Tokens\")\n",
    "plt.ylabel(\"Number of Documents\")\n",
    "plt.show()"
   ]
  },
  {
   "cell_type": "markdown",
   "id": "b1f07c2f",
   "metadata": {},
   "source": [
    "## Split data in train, valid, and test sets\n",
    "### training (38,588 records, 69.9%), validation (5536 records, 10.0%) and testing (11,048 records, 20.0%) folds"
   ]
  },
  {
   "cell_type": "code",
   "execution_count": 25,
   "id": "c9cc17eb",
   "metadata": {},
   "outputs": [
    {
     "data": {
      "text/plain": [
       "10714"
      ]
     },
     "execution_count": 25,
     "metadata": {},
     "output_type": "execute_result"
    }
   ],
   "source": [
    "# Random split\n",
    "train, tst = sklearn.model_selection.train_test_split(df, test_size= 0.3, random_state=42)\n",
    "\n",
    "test, valid = sklearn.model_selection.train_test_split(tst, test_size= 0.33, random_state=42)\n",
    "\n",
    "train = train.reset_index(drop = True).drop([\"CATEGORY\", \"DESCRIPTION\"], axis = 1)\n",
    "test = test.reset_index(drop = True).drop([\"CATEGORY\", \"DESCRIPTION\"], axis = 1)\n",
    "valid = valid.reset_index(drop = True).drop([\"CATEGORY\", \"DESCRIPTION\"], axis = 1)\n",
    "\n",
    "len(test)"
   ]
  },
  {
   "cell_type": "markdown",
   "id": "3d6f8d07",
   "metadata": {},
   "source": [
    "## Count number of tokens in the training dataset (n = ~92,468 tokens)"
   ]
  },
  {
   "cell_type": "code",
   "execution_count": null,
   "id": "790c81fd",
   "metadata": {},
   "outputs": [],
   "source": [
    "# Count occurence of tokens that are in the training dataset\n",
    "n = len(np.unique(np.concatenate(train['SENT_TOKENS'].values)))\n",
    "occ = Counter(np.concatenate(train['SENT_TOKENS'].values))\n",
    "             \n",
    "# Tokens that occur >= 5 times are in the study vocabulary (should be ~19,503)\n",
    "vocab = [k for k,v in occ.items() if v >= 5]\n",
    "len(vocab)\n",
    "\n",
    "# Assign a unique integer ID for each token in the study vocabulary \n",
    "vocab_lookup = dict(zip(vocab, np.arange(0, len(vocab), 1)))\n",
    "\n",
    "# Convert each HoPI document to a 1D array of integers using this index\n",
    "train[\"trunc_idx\"] =  train['SENT_TOKENS'].map(lambda x: [vocab_lookup.get(i) for i in x if i in vocab_lookup.keys()])\n",
    "valid[\"trunc_idx\"] =  valid['SENT_TOKENS'].map(lambda x: [vocab_lookup.get(i) for i in x if i in vocab_lookup.keys()])\n",
    "test[\"trunc_idx\"] =  test['SENT_TOKENS'].map(lambda x: [vocab_lookup.get(i) for i in x if i in vocab_lookup.keys()])"
   ]
  },
  {
   "cell_type": "markdown",
   "id": "b180a12e",
   "metadata": {},
   "source": [
    "# Document representation"
   ]
  },
  {
   "cell_type": "code",
   "execution_count": null,
   "id": "04e11ad3",
   "metadata": {},
   "outputs": [],
   "source": [
    "# Represent clinical notes documents as TF-IDF weights\n",
    "from sklearn.feature_extraction.text import TfidfTransformer\n",
    "from sklearn.pipeline import Pipeline\n",
    "\n",
    "def tfidf(df):\n",
    "    pipe = Pipeline([('count', CountVectorizer(vocabulary = vocab, lowercase = False)),('tfid', TfidfTransformer(use_idf=True))]).fit(df[\"HOPI\"].values)\n",
    "    pipe['count'].transform(df[\"HOPI\"].values).toarray()\n",
    "    pipe['tfid'].idf_\n",
    "\n",
    "    return pipe.transform(df[\"HOPI\"].values)\n",
    "\n",
    "# Create sparse matrix of size number of docs x words in vocab\n",
    "tfidf_train = tfidf(train)\n",
    "tfidf_valid = tfidf(valid)\n",
    "tfidf_test = tfidf(test)"
   ]
  },
  {
   "cell_type": "code",
   "execution_count": null,
   "id": "e46938b7",
   "metadata": {},
   "outputs": [],
   "source": [
    "# Mean embedding representation"
   ]
  },
  {
   "cell_type": "code",
   "execution_count": null,
   "id": "b50a05ea",
   "metadata": {},
   "outputs": [],
   "source": [
    "# GRU representation"
   ]
  },
  {
   "cell_type": "markdown",
   "id": "9bb2746c",
   "metadata": {},
   "source": [
    "# Label representation"
   ]
  },
  {
   "cell_type": "markdown",
   "id": "e8c0afc9",
   "metadata": {},
   "source": [
    "### Identify the hierarchical labels for each icd9 code"
   ]
  },
  {
   "cell_type": "code",
   "execution_count": null,
   "id": "e7305717",
   "metadata": {},
   "outputs": [],
   "source": [
    "# Pull out the main ICD9 code (they are ordered for importance)\n",
    "train[\"ICD_Main\"] = train['ICD9_CODE'].map(lambda x: x[0])\n",
    "valid[\"ICD_Main\"] = valid['ICD9_CODE'].map(lambda x: x[0])\n",
    "test[\"ICD_Main\"] = test['ICD9_CODE'].map(lambda x: x[0])"
   ]
  },
  {
   "cell_type": "code",
   "execution_count": null,
   "id": "e9714dd3",
   "metadata": {},
   "outputs": [],
   "source": [
    "# Use pyhealth library to find code hierarchy for the train, test, and valid datasets\n",
    "icd9cm = InnerMap.load(\"ICD9CM\")\n",
    "\n",
    "def define_levels(x):\n",
    "    lvls = []\n",
    "    for l in x: \n",
    "        lvls.append(icd9cm.lookup(l))\n",
    "    return lvls\n",
    "\n",
    "def drop_top(X):\n",
    "    if '001-999.99' in X:\n",
    "        X.remove('001-999.99')\n",
    "    return X\n",
    "\n",
    "def get_codes(df):\n",
    "    #df['icd_desc'] = df['ICD_Main'].map(lambda x: icd9cm.lookup(x))\n",
    "    df['levels'] = df['ICD_Main'].map(lambda x:icd9cm.get_ancestors(x)[::-1])\n",
    "    df['levels'].map(lambda x: drop_top(x))\n",
    "\n",
    "    for i in range(len(df)):\n",
    "        df['levels'][i].append(df['ICD_Main'][i])\n",
    "\n",
    "    df['levels_desc'] = df['levels'].map(lambda x: define_levels(x))\n",
    "\n",
    "get_codes(train)\n",
    "get_codes(valid)\n",
    "get_codes(test)"
   ]
  },
  {
   "cell_type": "code",
   "execution_count": null,
   "id": "65bc18b9",
   "metadata": {},
   "outputs": [],
   "source": [
    "# Append the code descriptions to the dfs\n",
    "train_labs = pd.concat([train, train['levels_desc'].apply(pd.Series)], axis = 1).drop(\"levels_desc\", axis = 1)\\\n",
    "    .rename(columns={0: \"y_l1\", 1: \"y_l2\", 2: \"y_l3\", 3: \"y_l4\", 4:\"y_l5\", 5:\"y_l6\"})\n",
    "valid_labs = pd.concat([valid, valid['levels_desc'].apply(pd.Series)], axis = 1).drop(\"levels_desc\", axis = 1)\\\n",
    "    .rename(columns={0: \"y_l1\", 1: \"y_l2\", 2: \"y_l3\", 3: \"y_l4\", 4:\"y_l5\", 5:\"y_l6\"})\n",
    "test_labs = pd.concat([test, test['levels_desc'].apply(pd.Series)], axis = 1).drop(\"levels_desc\", axis = 1)\\\n",
    "    .rename(columns={0: \"y_l1\", 1: \"y_l2\", 2: \"y_l3\", 3: \"y_l4\" , 4:\"y_l5\", 5:\"y_l6\"})"
   ]
  },
  {
   "cell_type": "markdown",
   "id": "6e3524d3",
   "metadata": {},
   "source": [
    "## Baseline Model"
   ]
  },
  {
   "cell_type": "markdown",
   "id": "00750564",
   "metadata": {},
   "source": [
    "### TFIDF-Atomic: TFIDF document weights were input into a multinomical logistic regression classifier in order to predict the 4 levels of icd hierarchy"
   ]
  },
  {
   "cell_type": "markdown",
   "id": "ff0df4d0",
   "metadata": {},
   "source": [
    "### Precict level 1 icd9 codes"
   ]
  },
  {
   "cell_type": "code",
   "execution_count": null,
   "id": "32b285c1",
   "metadata": {},
   "outputs": [
    {
     "ename": "NameError",
     "evalue": "name 'np' is not defined",
     "output_type": "error",
     "traceback": [
      "\u001b[0;31m---------------------------------------------------------------------------\u001b[0m",
      "\u001b[0;31mNameError\u001b[0m                                 Traceback (most recent call last)",
      "\u001b[0;32m<ipython-input-1-0a2d5349c051>\u001b[0m in \u001b[0;36m<module>\u001b[0;34m\u001b[0m\n\u001b[1;32m      2\u001b[0m \u001b[0;34m\u001b[0m\u001b[0m\n\u001b[1;32m      3\u001b[0m \u001b[0;31m# L2 values to iterate over\u001b[0m\u001b[0;34m\u001b[0m\u001b[0;34m\u001b[0m\u001b[0;34m\u001b[0m\u001b[0m\n\u001b[0;32m----> 4\u001b[0;31m \u001b[0mL2\u001b[0m \u001b[0;34m=\u001b[0m \u001b[0mnp\u001b[0m\u001b[0;34m.\u001b[0m\u001b[0mlogspace\u001b[0m\u001b[0;34m(\u001b[0m\u001b[0;36m.01\u001b[0m\u001b[0;34m,\u001b[0m \u001b[0;36m100\u001b[0m\u001b[0;34m,\u001b[0m \u001b[0mnum\u001b[0m \u001b[0;34m=\u001b[0m \u001b[0;36m50\u001b[0m\u001b[0;34m)\u001b[0m\u001b[0;34m\u001b[0m\u001b[0;34m\u001b[0m\u001b[0m\n\u001b[0m\u001b[1;32m      5\u001b[0m \u001b[0;31m#L2 = [100]\u001b[0m\u001b[0;34m\u001b[0m\u001b[0;34m\u001b[0m\u001b[0;34m\u001b[0m\u001b[0m\n\u001b[1;32m      6\u001b[0m \u001b[0;34m\u001b[0m\u001b[0m\n",
      "\u001b[0;31mNameError\u001b[0m: name 'np' is not defined"
     ]
    }
   ],
   "source": [
    "# Multinomial Logistic Regression from sklearn \n",
    "\n",
    "# L2 values to iterate over\n",
    "L2 = np.logspace(.01, 100, num = 50)\n",
    "\n",
    "# # Enumerate the l1 classes\n",
    "y_l1_dict = dict(zip(np.unique(train_labs['y_l1'].values), np.arange(0, len(np.unique(train_labs['y_l1'].values)), 1)))\n",
    "y_l1_trn = train_labs['y_l1'].map(lambda x: y_l1_dict.get(x))\n",
    "y_l1_val = valid_labs['y_l1'].map(lambda x: y_l1_dict.get(x))\n",
    "y_l1_tst = test_labs['y_l1'].map(lambda x: y_l1_dict.get(x))\n",
    "\n",
    "# Use the validation data to determine the best model parameter for C\n",
    "scores = []\n",
    "for C in L2: \n",
    "    tfidf_atomic = LogisticRegression(multi_class = 'multinomial', penalty = 'l2', max_iter = 1500, solver = \"sag\", random_state = 42, C = C)\n",
    "    tfidf_atomic_L1 = tfidf_atomic.fit(tfidf_train, y_l1_trn)\n",
    "    y_v_pred = tfidf_atomic_L1.predict(tfidf_valid)\n",
    "    report = metrics.classification_report(y_l1_val, y_v_pred, digits = 3, output_dict=True)\n",
    "    scores.append((C, report['weighted avg']['recall']))\n",
    "\n",
    "# C value for best model on valid data\n",
    "best_C = max(scores,key=lambda x:x[1])[0]\n",
    "\n",
    "# Get results on test data for best model\n",
    "tfidf_atomic = LogisticRegression(multi_class = 'multinomial', penalty = 'l2', max_iter = 1500, solver = \"sag\", random_state = 42, C = best_C)\n",
    "tfidf_atomic_l1 = tfidf_atomic.fit(tfidf_train, y_l1_trn)\n",
    "y_pred = tfidf_atomic_l1.predict(tfidf_test)\n",
    "L1_test_report = metrics.classification_report(y_l1_tst, y_pred, digits = 3, output_dict=True)\n",
    "L1_test_report['weighted avg']"
   ]
  },
  {
   "cell_type": "markdown",
   "id": "b0860306",
   "metadata": {},
   "source": [
    "### Precict level 2 icd9 codes"
   ]
  },
  {
   "cell_type": "code",
   "execution_count": null,
   "id": "5f8d7971",
   "metadata": {},
   "outputs": [],
   "source": [
    "# Multinomial Logistic Regression from sklearn \n",
    "\n",
    "# L2 values to iterate over\n",
    "L2 = np.logspace(.01, 100, num = 50)\n",
    "#L2 = [100]\n",
    "\n",
    "# # Enumerate the l1 classes\n",
    "y_l2_dict = dict(zip(np.unique(train_labs['y_l2'].values), np.arange(0, len(np.unique(train_labs['y_l2'].values)), 1)))\n",
    "y_l2_trn = train_labs['y_l2'].map(lambda x: y_l2_dict.get(x))\n",
    "y_l2_val = valid_labs['y_l2'].map(lambda x: y_l2_dict.get(x))\n",
    "y_l2_tst = test_labs['y_l2'].map(lambda x: y_l2_dict.get(x))\n",
    "\n",
    "# Use the validation data to determine the best model parameter for C\n",
    "scores = []\n",
    "for C in L2: \n",
    "    tfidf_atomic = LogisticRegression(multi_class = 'multinomial', penalty = 'l2', max_iter = 1500, solver = \"sag\", random_state = 42, C = C)\n",
    "    tfidf_atomic_L2 = tfidf_atomic.fit(tfidf_train, y_l2_trn)\n",
    "    y_v_pred = tfidf_atomic_L2.predict(tfidf_valid)\n",
    "    report = metrics.classification_report(y_l2_val, y_v_pred, digits = 3, output_dict=True)\n",
    "    scores.append((C, report['weighted avg']['recall']))\n",
    "\n",
    "# C value for best model on valid data\n",
    "best_C = max(scores,key=lambda x:x[1])[0]\n",
    "\n",
    "# Get results on test data for best model\n",
    "tfidf_atomic = LogisticRegression(multi_class = 'multinomial', penalty = 'l2', max_iter = 1500, solver = \"sag\", random_state = 42, C = best_C)\n",
    "tfidf_atomic_l2 = tfidf_atomic.fit(tfidf_train, y_l2_trn)\n",
    "y_pred = tfidf_atomic_l2.predict(tfidf_test)\n",
    "L2_test_report = metrics.classification_report(y_l2_tst, y_pred, digits = 3, output_dict=True)\n",
    "L2_test_report['weighted avg']"
   ]
  },
  {
   "cell_type": "markdown",
   "id": "4b0d4d31",
   "metadata": {},
   "source": [
    "### Precict level 3 icd9 codes"
   ]
  },
  {
   "cell_type": "code",
   "execution_count": null,
   "id": "22270f86",
   "metadata": {},
   "outputs": [],
   "source": [
    "# Multinomial Logistic Regression from sklearn \n",
    "\n",
    "# L2 values to iterate over\n",
    "L2 = np.logspace(.01, 100, num = 50)\n",
    "\n",
    "# # Enumerate the l1 classes\n",
    "y_l3_dict = dict(zip(np.unique(train_labs['y_l3'].values), np.arange(0, len(np.unique(train_labs['y_l3'].values)), 1)))\n",
    "y_l3_trn = train_labs['y_l3'].map(lambda x: y_l3_dict.get(x))\n",
    "y_l3_val = valid_labs['y_l3'].map(lambda x: y_l3_dict.get(x))\n",
    "y_l3_tst = test_labs['y_l3'].map(lambda x: y_l3_dict.get(x))\n",
    "\n",
    "# Use the validation data to determine the best model parameter for C\n",
    "scores = []\n",
    "for C in L2: \n",
    "    tfidf_atomic = LogisticRegression(multi_class = 'multinomial', penalty = 'l2', max_iter = 1500, solver = \"sag\", random_state = 42, C = C)\n",
    "    tfidf_atomic_L3 = tfidf_atomic.fit(tfidf_train, y_l3_trn)\n",
    "    y_v_pred = tfidf_atomic_L3.predict(tfidf_valid)\n",
    "    report = metrics.classification_report(y_l3_val, y_v_pred, digits = 3, output_dict=True)\n",
    "    scores.append((C, report['weighted avg']['recall']))\n",
    "\n",
    "# C value for best model on valid data\n",
    "best_C = max(scores,key=lambda x:x[1])[0]\n",
    "\n",
    "# Get results on test data for best model\n",
    "tfidf_atomic = LogisticRegression(multi_class = 'multinomial', penalty = 'l2', max_iter = 1500, solver = \"sag\", random_state = 42, C = best_C)\n",
    "tfidf_atomic_l3 = tfidf_atomic.fit(tfidf_train, y_l3_trn)\n",
    "y_pred = tfidf_atomic_l3.predict(tfidf_test)\n",
    "L3_test_report = metrics.classification_report(y_l3_tst, y_pred, digits = 3, output_dict=True)\n",
    "L3_test_report['weighted avg']"
   ]
  },
  {
   "cell_type": "markdown",
   "id": "7fe63853",
   "metadata": {},
   "source": [
    "### Mean-atomic"
   ]
  },
  {
   "cell_type": "code",
   "execution_count": null,
   "id": "138db98d",
   "metadata": {},
   "outputs": [],
   "source": []
  },
  {
   "cell_type": "markdown",
   "id": "57d4117a",
   "metadata": {},
   "source": [
    "### GRU(X) - atomic"
   ]
  },
  {
   "cell_type": "code",
   "execution_count": 1,
   "id": "b6b7ce0e",
   "metadata": {},
   "outputs": [
    {
     "ename": "NameError",
     "evalue": "name 'scores' is not defined",
     "output_type": "error",
     "traceback": [
      "\u001b[0;31m---------------------------------------------------------------------------\u001b[0m",
      "\u001b[0;31mNameError\u001b[0m                                 Traceback (most recent call last)",
      "\u001b[0;32m<ipython-input-1-6aae9d2ac101>\u001b[0m in \u001b[0;36m<module>\u001b[0;34m\u001b[0m\n\u001b[1;32m      1\u001b[0m \u001b[0;31m# GRU with softmax activation??\u001b[0m\u001b[0;34m\u001b[0m\u001b[0;34m\u001b[0m\u001b[0;34m\u001b[0m\u001b[0m\n\u001b[1;32m      2\u001b[0m \u001b[0;34m\u001b[0m\u001b[0m\n\u001b[0;32m----> 3\u001b[0;31m \u001b[0mscores\u001b[0m\u001b[0;34m\u001b[0m\u001b[0;34m\u001b[0m\u001b[0m\n\u001b[0m",
      "\u001b[0;31mNameError\u001b[0m: name 'scores' is not defined"
     ]
    }
   ],
   "source": [
    "# GRU with softmax activation?"
   ]
  },
  {
   "cell_type": "markdown",
   "id": "d5cb0855",
   "metadata": {},
   "source": [
    "### GRU(X) - GRU(Z)"
   ]
  },
  {
   "cell_type": "markdown",
   "id": "d33f164d",
   "metadata": {},
   "source": []
  }
 ],
 "metadata": {
  "kernelspec": {
   "display_name": "Python 3.8.8 ('base')",
   "language": "python",
   "name": "python3"
  },
  "language_info": {
   "codemirror_mode": {
    "name": "ipython",
    "version": 3
   },
   "file_extension": ".py",
   "mimetype": "text/x-python",
   "name": "python",
   "nbconvert_exporter": "python",
   "pygments_lexer": "ipython3",
   "version": "3.8.8"
  },
  "vscode": {
   "interpreter": {
    "hash": "1e62e6c49de2640afe301eb0b2acbb83744f5d70b682db4580c6d91865314c54"
   }
  }
 },
 "nbformat": 4,
 "nbformat_minor": 5
}
