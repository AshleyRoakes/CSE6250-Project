{
 "cells": [
  {
   "cell_type": "code",
   "execution_count": 2,
   "id": "a331de94",
   "metadata": {},
   "outputs": [],
   "source": [
    "import pandas as pd\n",
    "import matplotlib.pyplot as plt\n",
    "import numpy as np\n",
    "import re\n",
    "from nltk.tag import StanfordPOSTagger\n",
    "from nltk import word_tokenize\n",
    "from nltk.internals import find_jars_within_path\n",
    "import nltk\n",
    "import sklearn.model_selection\n",
    "from collections import Counter\n",
    "import sklearn.feature_extraction.text as skt\n",
    "from sklearn.feature_extraction.text import CountVectorizer\n",
    "\n",
    "#nltk.download('punkt')\n",
    "\n",
    "#from nltk.corpus import stopwords\n",
    "#nltk.download('stopwords')"
   ]
  },
  {
   "cell_type": "code",
   "execution_count": 3,
   "id": "0c542936",
   "metadata": {},
   "outputs": [],
   "source": [
    "root = \"/Users/ashleyroakes/Desktop/\"\n",
    "mim_root = root + \"mimic-iii-clinical-database-1.4/\""
   ]
  },
  {
   "cell_type": "markdown",
   "id": "76b7b726",
   "metadata": {},
   "source": [
    "# Data Pre-processing\n",
    "## Read in Discharge Notes"
   ]
  },
  {
   "cell_type": "code",
   "execution_count": 4,
   "id": "9078a11e",
   "metadata": {},
   "outputs": [
    {
     "name": "stdout",
     "output_type": "stream",
     "text": [
      "Number of discharge summaries:  55177\n"
     ]
    },
    {
     "data": {
      "text/html": [
       "<div>\n",
       "<style scoped>\n",
       "    .dataframe tbody tr th:only-of-type {\n",
       "        vertical-align: middle;\n",
       "    }\n",
       "\n",
       "    .dataframe tbody tr th {\n",
       "        vertical-align: top;\n",
       "    }\n",
       "\n",
       "    .dataframe thead th {\n",
       "        text-align: right;\n",
       "    }\n",
       "</style>\n",
       "<table border=\"1\" class=\"dataframe\">\n",
       "  <thead>\n",
       "    <tr style=\"text-align: right;\">\n",
       "      <th></th>\n",
       "      <th>SUBJECT_ID</th>\n",
       "      <th>HADM_ID</th>\n",
       "      <th>CATEGORY</th>\n",
       "      <th>DESCRIPTION</th>\n",
       "      <th>TEXT</th>\n",
       "    </tr>\n",
       "  </thead>\n",
       "  <tbody>\n",
       "    <tr>\n",
       "      <th>0</th>\n",
       "      <td>22532</td>\n",
       "      <td>167853.0</td>\n",
       "      <td>Discharge summary</td>\n",
       "      <td>Report</td>\n",
       "      <td>Admission Date:  [**2151-7-16**]       Dischar...</td>\n",
       "    </tr>\n",
       "    <tr>\n",
       "      <th>1</th>\n",
       "      <td>13702</td>\n",
       "      <td>107527.0</td>\n",
       "      <td>Discharge summary</td>\n",
       "      <td>Report</td>\n",
       "      <td>Admission Date:  [**2118-6-2**]       Discharg...</td>\n",
       "    </tr>\n",
       "    <tr>\n",
       "      <th>2</th>\n",
       "      <td>13702</td>\n",
       "      <td>167118.0</td>\n",
       "      <td>Discharge summary</td>\n",
       "      <td>Report</td>\n",
       "      <td>Admission Date:  [**2119-5-4**]              D...</td>\n",
       "    </tr>\n",
       "    <tr>\n",
       "      <th>3</th>\n",
       "      <td>13702</td>\n",
       "      <td>196489.0</td>\n",
       "      <td>Discharge summary</td>\n",
       "      <td>Report</td>\n",
       "      <td>Admission Date:  [**2124-7-21**]              ...</td>\n",
       "    </tr>\n",
       "    <tr>\n",
       "      <th>4</th>\n",
       "      <td>26880</td>\n",
       "      <td>135453.0</td>\n",
       "      <td>Discharge summary</td>\n",
       "      <td>Report</td>\n",
       "      <td>Admission Date:  [**2162-3-3**]              D...</td>\n",
       "    </tr>\n",
       "  </tbody>\n",
       "</table>\n",
       "</div>"
      ],
      "text/plain": [
       "   SUBJECT_ID   HADM_ID           CATEGORY DESCRIPTION  \\\n",
       "0       22532  167853.0  Discharge summary      Report   \n",
       "1       13702  107527.0  Discharge summary      Report   \n",
       "2       13702  167118.0  Discharge summary      Report   \n",
       "3       13702  196489.0  Discharge summary      Report   \n",
       "4       26880  135453.0  Discharge summary      Report   \n",
       "\n",
       "                                                TEXT  \n",
       "0  Admission Date:  [**2151-7-16**]       Dischar...  \n",
       "1  Admission Date:  [**2118-6-2**]       Discharg...  \n",
       "2  Admission Date:  [**2119-5-4**]              D...  \n",
       "3  Admission Date:  [**2124-7-21**]              ...  \n",
       "4  Admission Date:  [**2162-3-3**]              D...  "
      ]
     },
     "execution_count": 4,
     "metadata": {},
     "output_type": "execute_result"
    }
   ],
   "source": [
    "notes = mim_root + \"NOTEEVENTS.csv.gz\"\n",
    "\n",
    "notes_df = pd.read_csv(notes, compression='gzip', error_bad_lines=False, \n",
    "                       usecols = ['SUBJECT_ID', 'HADM_ID', 'CATEGORY', 'DESCRIPTION','TEXT'])\\\n",
    "                      .query(\"CATEGORY == 'Discharge summary'\")\\\n",
    "                      .query(\"DESCRIPTION == 'Report'\")\n",
    "\n",
    "# Should be 55,177 records\n",
    "print(\"Number of discharge summaries: \", + len(notes_df))\n",
    "\n",
    "notes_df.head()"
   ]
  },
  {
   "cell_type": "markdown",
   "id": "757857a9",
   "metadata": {},
   "source": [
    "## Read in Patient Diagnoses"
   ]
  },
  {
   "cell_type": "code",
   "execution_count": 5,
   "id": "e16993f5",
   "metadata": {},
   "outputs": [
    {
     "data": {
      "text/html": [
       "<div>\n",
       "<style scoped>\n",
       "    .dataframe tbody tr th:only-of-type {\n",
       "        vertical-align: middle;\n",
       "    }\n",
       "\n",
       "    .dataframe tbody tr th {\n",
       "        vertical-align: top;\n",
       "    }\n",
       "\n",
       "    .dataframe thead th {\n",
       "        text-align: right;\n",
       "    }\n",
       "</style>\n",
       "<table border=\"1\" class=\"dataframe\">\n",
       "  <thead>\n",
       "    <tr style=\"text-align: right;\">\n",
       "      <th></th>\n",
       "      <th>HADM_ID</th>\n",
       "      <th>ICD9_CODE</th>\n",
       "    </tr>\n",
       "  </thead>\n",
       "  <tbody>\n",
       "    <tr>\n",
       "      <th>0</th>\n",
       "      <td>100001</td>\n",
       "      <td>[25013, 3371, 5849, 5780, V5867, 25063, 5363, ...</td>\n",
       "    </tr>\n",
       "    <tr>\n",
       "      <th>1</th>\n",
       "      <td>100003</td>\n",
       "      <td>[53100, 2851, 07054, 5715, 45621, 53789, 4019,...</td>\n",
       "    </tr>\n",
       "    <tr>\n",
       "      <th>2</th>\n",
       "      <td>100006</td>\n",
       "      <td>[49320, 51881, 486, 20300, 2761, 7850, 3090, V...</td>\n",
       "    </tr>\n",
       "    <tr>\n",
       "      <th>3</th>\n",
       "      <td>100007</td>\n",
       "      <td>[56081, 5570, 9973, 486, 4019]</td>\n",
       "    </tr>\n",
       "    <tr>\n",
       "      <th>4</th>\n",
       "      <td>100009</td>\n",
       "      <td>[41401, 99604, 4142, 25000, 27800, V8535, 4148...</td>\n",
       "    </tr>\n",
       "  </tbody>\n",
       "</table>\n",
       "</div>"
      ],
      "text/plain": [
       "   HADM_ID                                          ICD9_CODE\n",
       "0   100001  [25013, 3371, 5849, 5780, V5867, 25063, 5363, ...\n",
       "1   100003  [53100, 2851, 07054, 5715, 45621, 53789, 4019,...\n",
       "2   100006  [49320, 51881, 486, 20300, 2761, 7850, 3090, V...\n",
       "3   100007                     [56081, 5570, 9973, 486, 4019]\n",
       "4   100009  [41401, 99604, 4142, 25000, 27800, V8535, 4148..."
      ]
     },
     "execution_count": 5,
     "metadata": {},
     "output_type": "execute_result"
    }
   ],
   "source": [
    "diag = mim_root + \"DIAGNOSES_ICD.csv.gz\"\n",
    "\n",
    "diag_df = pd.read_csv(diag, compression='gzip', error_bad_lines=False)\\\n",
    "                    .dropna()\\\n",
    "                    .groupby('HADM_ID')['ICD9_CODE']\\\n",
    "                    .unique()\\\n",
    "                    .reset_index()\n",
    "diag_df.head()"
   ]
  },
  {
   "cell_type": "markdown",
   "id": "5befa018",
   "metadata": {},
   "source": [
    "## Read in ICD9 Dictionary"
   ]
  },
  {
   "cell_type": "code",
   "execution_count": 6,
   "id": "9e7e3472",
   "metadata": {},
   "outputs": [
    {
     "data": {
      "text/html": [
       "<div>\n",
       "<style scoped>\n",
       "    .dataframe tbody tr th:only-of-type {\n",
       "        vertical-align: middle;\n",
       "    }\n",
       "\n",
       "    .dataframe tbody tr th {\n",
       "        vertical-align: top;\n",
       "    }\n",
       "\n",
       "    .dataframe thead th {\n",
       "        text-align: right;\n",
       "    }\n",
       "</style>\n",
       "<table border=\"1\" class=\"dataframe\">\n",
       "  <thead>\n",
       "    <tr style=\"text-align: right;\">\n",
       "      <th></th>\n",
       "      <th>ROW_ID</th>\n",
       "      <th>ICD9_CODE</th>\n",
       "      <th>SHORT_TITLE</th>\n",
       "      <th>LONG_TITLE</th>\n",
       "    </tr>\n",
       "  </thead>\n",
       "  <tbody>\n",
       "    <tr>\n",
       "      <th>0</th>\n",
       "      <td>174</td>\n",
       "      <td>01166</td>\n",
       "      <td>TB pneumonia-oth test</td>\n",
       "      <td>Tuberculous pneumonia [any form], tubercle bac...</td>\n",
       "    </tr>\n",
       "    <tr>\n",
       "      <th>1</th>\n",
       "      <td>175</td>\n",
       "      <td>01170</td>\n",
       "      <td>TB pneumothorax-unspec</td>\n",
       "      <td>Tuberculous pneumothorax, unspecified</td>\n",
       "    </tr>\n",
       "    <tr>\n",
       "      <th>2</th>\n",
       "      <td>176</td>\n",
       "      <td>01171</td>\n",
       "      <td>TB pneumothorax-no exam</td>\n",
       "      <td>Tuberculous pneumothorax, bacteriological or h...</td>\n",
       "    </tr>\n",
       "    <tr>\n",
       "      <th>3</th>\n",
       "      <td>177</td>\n",
       "      <td>01172</td>\n",
       "      <td>TB pneumothorx-exam unkn</td>\n",
       "      <td>Tuberculous pneumothorax, bacteriological or h...</td>\n",
       "    </tr>\n",
       "    <tr>\n",
       "      <th>4</th>\n",
       "      <td>178</td>\n",
       "      <td>01173</td>\n",
       "      <td>TB pneumothorax-micro dx</td>\n",
       "      <td>Tuberculous pneumothorax, tubercle bacilli fou...</td>\n",
       "    </tr>\n",
       "  </tbody>\n",
       "</table>\n",
       "</div>"
      ],
      "text/plain": [
       "   ROW_ID ICD9_CODE               SHORT_TITLE  \\\n",
       "0     174     01166     TB pneumonia-oth test   \n",
       "1     175     01170    TB pneumothorax-unspec   \n",
       "2     176     01171   TB pneumothorax-no exam   \n",
       "3     177     01172  TB pneumothorx-exam unkn   \n",
       "4     178     01173  TB pneumothorax-micro dx   \n",
       "\n",
       "                                          LONG_TITLE  \n",
       "0  Tuberculous pneumonia [any form], tubercle bac...  \n",
       "1              Tuberculous pneumothorax, unspecified  \n",
       "2  Tuberculous pneumothorax, bacteriological or h...  \n",
       "3  Tuberculous pneumothorax, bacteriological or h...  \n",
       "4  Tuberculous pneumothorax, tubercle bacilli fou...  "
      ]
     },
     "execution_count": 6,
     "metadata": {},
     "output_type": "execute_result"
    }
   ],
   "source": [
    "icd = mim_root + \"D_ICD_DIAGNOSES.csv.gz\"\n",
    "\n",
    "icd_df = pd.read_csv(icd, compression='gzip', error_bad_lines=False)\n",
    "\n",
    "icd_df.head()"
   ]
  },
  {
   "cell_type": "markdown",
   "id": "425d7502",
   "metadata": {},
   "source": [
    "## Merge datasets by HADM_ID"
   ]
  },
  {
   "cell_type": "code",
   "execution_count": 7,
   "id": "eb8a4e03",
   "metadata": {},
   "outputs": [
    {
     "data": {
      "text/plain": [
       "55172"
      ]
     },
     "execution_count": 7,
     "metadata": {},
     "output_type": "execute_result"
    }
   ],
   "source": [
    "df = pd.merge(diag_df, notes_df, on='HADM_ID', how='inner')\n",
    "\n",
    "# Should be 55177-5 = 55172\n",
    "len(df)"
   ]
  },
  {
   "cell_type": "markdown",
   "id": "b193cbba",
   "metadata": {},
   "source": [
    "## Substitute special sequences,  Filter HoPI sections, & Tokenize"
   ]
  },
  {
   "cell_type": "markdown",
   "id": "08cb0055",
   "metadata": {},
   "source": [
    "### Identify HOPI sections & Substitute Special Sequences: These special sequences were identified and replaced by the first token in the sequence, e.g. \"[**Hospital1 18**]\" was replaced by ‘Hospital1’."
   ]
  },
  {
   "cell_type": "code",
   "execution_count": 8,
   "id": "9f357cce",
   "metadata": {},
   "outputs": [],
   "source": [
    "def process_notes(st):\n",
    "    s  = \"History of Present Illness\"\n",
    "    s1 = \"HISTORY OF PRESENT ILLNESS|HISTORY OF THE PRESENT ILLNESS|\\nHISTORY:|present illness|Present Illness|PRESENT ILLNESS\"\n",
    "    \n",
    "    match  = re.search(s, st)\n",
    "    match1 = re.search(s1, st)\n",
    "    \n",
    "    if (match is not None) or (match1 is not None):\n",
    "        if match is not None:\n",
    "            st = st.split(s, 1)[1]\n",
    "            e = \"\\n\\n\\n\"\n",
    "            n = st.split(e, 1)[0]\n",
    "    \n",
    "        elif match1 is not None: \n",
    "            st = st.split(match1[0], 1)[1]\n",
    "            e = re.search(r\"\\n[\\s\\w]+:\", st)[0]\n",
    "            n = st.split(e, 1)[0]\n",
    "        \n",
    "        # Replace special strings with \"\"\n",
    "        rep = re.findall(r\"\\[\\*\\*([a-zA-Z0-9]*)\", n)\n",
    "        strt = [m.start() for m in re.finditer(\"\\[\\*\\*([a-zA-Z0-9]*)\", n)]\n",
    "        end = [m.end() for m in re.finditer(\"([a-zA-Z0-9]*)\\*\\*\\]\", n)]\n",
    "\n",
    "        for i in range(len(rep)):\n",
    "            n = n[:strt[i]] + rep[i] + \" \" + n[end[i] + 1:]\n",
    "        \n",
    "    else: \n",
    "        n = ''\n",
    "    return n"
   ]
  },
  {
   "cell_type": "code",
   "execution_count": 9,
   "id": "991b1670",
   "metadata": {},
   "outputs": [],
   "source": [
    "df['HOPI'] = df[\"TEXT\"].map(lambda t: process_notes(t))"
   ]
  },
  {
   "cell_type": "markdown",
   "id": "548992e0",
   "metadata": {},
   "source": [
    "### Number of missing HOPI sections"
   ]
  },
  {
   "cell_type": "code",
   "execution_count": 10,
   "id": "165ed5c1",
   "metadata": {},
   "outputs": [
    {
     "name": "stdout",
     "output_type": "stream",
     "text": [
      "Notes without HOPI sections: 1867\n"
     ]
    },
    {
     "data": {
      "text/html": [
       "<div>\n",
       "<style scoped>\n",
       "    .dataframe tbody tr th:only-of-type {\n",
       "        vertical-align: middle;\n",
       "    }\n",
       "\n",
       "    .dataframe tbody tr th {\n",
       "        vertical-align: top;\n",
       "    }\n",
       "\n",
       "    .dataframe thead th {\n",
       "        text-align: right;\n",
       "    }\n",
       "</style>\n",
       "<table border=\"1\" class=\"dataframe\">\n",
       "  <thead>\n",
       "    <tr style=\"text-align: right;\">\n",
       "      <th></th>\n",
       "      <th>index</th>\n",
       "      <th>HADM_ID</th>\n",
       "      <th>ICD9_CODE</th>\n",
       "      <th>SUBJECT_ID</th>\n",
       "      <th>CATEGORY</th>\n",
       "      <th>DESCRIPTION</th>\n",
       "      <th>TEXT</th>\n",
       "      <th>HOPI</th>\n",
       "    </tr>\n",
       "  </thead>\n",
       "  <tbody>\n",
       "    <tr>\n",
       "      <th>0</th>\n",
       "      <td>0</td>\n",
       "      <td>100001</td>\n",
       "      <td>[25013, 3371, 5849, 5780, V5867, 25063, 5363, ...</td>\n",
       "      <td>58526</td>\n",
       "      <td>Discharge summary</td>\n",
       "      <td>Report</td>\n",
       "      <td>Admission Date:  [**2117-9-11**]              ...</td>\n",
       "      <td>:\\n35F w/ poorly controlled Type 1 diabetes me...</td>\n",
       "    </tr>\n",
       "    <tr>\n",
       "      <th>1</th>\n",
       "      <td>1</td>\n",
       "      <td>100003</td>\n",
       "      <td>[53100, 2851, 07054, 5715, 45621, 53789, 4019,...</td>\n",
       "      <td>54610</td>\n",
       "      <td>Discharge summary</td>\n",
       "      <td>Report</td>\n",
       "      <td>Admission Date:  [**2150-4-17**]              ...</td>\n",
       "      <td>:\\nMr. Known is a 59M w HepC cirrhosis c/b gra...</td>\n",
       "    </tr>\n",
       "    <tr>\n",
       "      <th>2</th>\n",
       "      <td>2</td>\n",
       "      <td>100006</td>\n",
       "      <td>[49320, 51881, 486, 20300, 2761, 7850, 3090, V...</td>\n",
       "      <td>9895</td>\n",
       "      <td>Discharge summary</td>\n",
       "      <td>Report</td>\n",
       "      <td>Admission Date:  [**2108-4-6**]       Discharg...</td>\n",
       "      <td>:  This is a 48 year old African\\nAmerican fem...</td>\n",
       "    </tr>\n",
       "    <tr>\n",
       "      <th>3</th>\n",
       "      <td>3</td>\n",
       "      <td>100007</td>\n",
       "      <td>[56081, 5570, 9973, 486, 4019]</td>\n",
       "      <td>23018</td>\n",
       "      <td>Discharge summary</td>\n",
       "      <td>Report</td>\n",
       "      <td>Admission Date:  [**2145-3-31**]              ...</td>\n",
       "      <td>:\\nMs Known is a 73 year old female with a his...</td>\n",
       "    </tr>\n",
       "    <tr>\n",
       "      <th>4</th>\n",
       "      <td>4</td>\n",
       "      <td>100009</td>\n",
       "      <td>[41401, 99604, 4142, 25000, 27800, V8535, 4148...</td>\n",
       "      <td>533</td>\n",
       "      <td>Discharge summary</td>\n",
       "      <td>Report</td>\n",
       "      <td>Admission Date:  [**2162-5-16**]              ...</td>\n",
       "      <td>:\\n60yo man with known coronary disease (AMI i...</td>\n",
       "    </tr>\n",
       "    <tr>\n",
       "      <th>...</th>\n",
       "      <td>...</td>\n",
       "      <td>...</td>\n",
       "      <td>...</td>\n",
       "      <td>...</td>\n",
       "      <td>...</td>\n",
       "      <td>...</td>\n",
       "      <td>...</td>\n",
       "      <td>...</td>\n",
       "    </tr>\n",
       "    <tr>\n",
       "      <th>53300</th>\n",
       "      <td>55167</td>\n",
       "      <td>199993</td>\n",
       "      <td>[41031, 42821, 42731, 4271, 5180, 4240, 2760, ...</td>\n",
       "      <td>20785</td>\n",
       "      <td>Discharge summary</td>\n",
       "      <td>Report</td>\n",
       "      <td>Admission Date:  [**2161-10-23**]       Discha...</td>\n",
       "      <td>:  The patient is a 60 year old man\\nwith a hi...</td>\n",
       "    </tr>\n",
       "    <tr>\n",
       "      <th>53301</th>\n",
       "      <td>55168</td>\n",
       "      <td>199994</td>\n",
       "      <td>[486, 4280, 51881, 3970, 496, 4169, 585, 42732...</td>\n",
       "      <td>23761</td>\n",
       "      <td>Discharge summary</td>\n",
       "      <td>Report</td>\n",
       "      <td>Admission Date:  [**2188-7-7**]       Discharg...</td>\n",
       "      <td>:  The patient is a 58 year old woman\\nwith mu...</td>\n",
       "    </tr>\n",
       "    <tr>\n",
       "      <th>53302</th>\n",
       "      <td>55169</td>\n",
       "      <td>199995</td>\n",
       "      <td>[4210, 7464, 42971, 30401, 4412, 44284, V1259,...</td>\n",
       "      <td>19412</td>\n",
       "      <td>Discharge summary</td>\n",
       "      <td>Report</td>\n",
       "      <td>Admission Date: [**2137-12-11**]        Discha...</td>\n",
       "      <td>:  Known [**Known lastnameKnown male patient w...</td>\n",
       "    </tr>\n",
       "    <tr>\n",
       "      <th>53303</th>\n",
       "      <td>55170</td>\n",
       "      <td>199998</td>\n",
       "      <td>[41401, 9971, 9975, 42731, 78820, 4111, V4582,...</td>\n",
       "      <td>27200</td>\n",
       "      <td>Discharge summary</td>\n",
       "      <td>Report</td>\n",
       "      <td>Admission Date:  [**2119-2-18**]              ...</td>\n",
       "      <td>:\\nThis is a 69 year old male in known coronar...</td>\n",
       "    </tr>\n",
       "    <tr>\n",
       "      <th>53304</th>\n",
       "      <td>55171</td>\n",
       "      <td>199999</td>\n",
       "      <td>[48284, 51881, 5119, 5849, 2761, 78606, 79902,...</td>\n",
       "      <td>40370</td>\n",
       "      <td>Discharge summary</td>\n",
       "      <td>Report</td>\n",
       "      <td>Admission Date:  [**2136-4-4**]              D...</td>\n",
       "      <td>:\\n88 y/o M with hx of Crohn's and CAD who pre...</td>\n",
       "    </tr>\n",
       "  </tbody>\n",
       "</table>\n",
       "<p>53305 rows × 8 columns</p>\n",
       "</div>"
      ],
      "text/plain": [
       "       index  HADM_ID                                          ICD9_CODE  \\\n",
       "0          0   100001  [25013, 3371, 5849, 5780, V5867, 25063, 5363, ...   \n",
       "1          1   100003  [53100, 2851, 07054, 5715, 45621, 53789, 4019,...   \n",
       "2          2   100006  [49320, 51881, 486, 20300, 2761, 7850, 3090, V...   \n",
       "3          3   100007                     [56081, 5570, 9973, 486, 4019]   \n",
       "4          4   100009  [41401, 99604, 4142, 25000, 27800, V8535, 4148...   \n",
       "...      ...      ...                                                ...   \n",
       "53300  55167   199993  [41031, 42821, 42731, 4271, 5180, 4240, 2760, ...   \n",
       "53301  55168   199994  [486, 4280, 51881, 3970, 496, 4169, 585, 42732...   \n",
       "53302  55169   199995  [4210, 7464, 42971, 30401, 4412, 44284, V1259,...   \n",
       "53303  55170   199998  [41401, 9971, 9975, 42731, 78820, 4111, V4582,...   \n",
       "53304  55171   199999  [48284, 51881, 5119, 5849, 2761, 78606, 79902,...   \n",
       "\n",
       "       SUBJECT_ID           CATEGORY DESCRIPTION  \\\n",
       "0           58526  Discharge summary      Report   \n",
       "1           54610  Discharge summary      Report   \n",
       "2            9895  Discharge summary      Report   \n",
       "3           23018  Discharge summary      Report   \n",
       "4             533  Discharge summary      Report   \n",
       "...           ...                ...         ...   \n",
       "53300       20785  Discharge summary      Report   \n",
       "53301       23761  Discharge summary      Report   \n",
       "53302       19412  Discharge summary      Report   \n",
       "53303       27200  Discharge summary      Report   \n",
       "53304       40370  Discharge summary      Report   \n",
       "\n",
       "                                                    TEXT  \\\n",
       "0      Admission Date:  [**2117-9-11**]              ...   \n",
       "1      Admission Date:  [**2150-4-17**]              ...   \n",
       "2      Admission Date:  [**2108-4-6**]       Discharg...   \n",
       "3      Admission Date:  [**2145-3-31**]              ...   \n",
       "4      Admission Date:  [**2162-5-16**]              ...   \n",
       "...                                                  ...   \n",
       "53300  Admission Date:  [**2161-10-23**]       Discha...   \n",
       "53301  Admission Date:  [**2188-7-7**]       Discharg...   \n",
       "53302  Admission Date: [**2137-12-11**]        Discha...   \n",
       "53303  Admission Date:  [**2119-2-18**]              ...   \n",
       "53304  Admission Date:  [**2136-4-4**]              D...   \n",
       "\n",
       "                                                    HOPI  \n",
       "0      :\\n35F w/ poorly controlled Type 1 diabetes me...  \n",
       "1      :\\nMr. Known is a 59M w HepC cirrhosis c/b gra...  \n",
       "2      :  This is a 48 year old African\\nAmerican fem...  \n",
       "3      :\\nMs Known is a 73 year old female with a his...  \n",
       "4      :\\n60yo man with known coronary disease (AMI i...  \n",
       "...                                                  ...  \n",
       "53300  :  The patient is a 60 year old man\\nwith a hi...  \n",
       "53301  :  The patient is a 58 year old woman\\nwith mu...  \n",
       "53302  :  Known [**Known lastnameKnown male patient w...  \n",
       "53303  :\\nThis is a 69 year old male in known coronar...  \n",
       "53304  :\\n88 y/o M with hx of Crohn's and CAD who pre...  \n",
       "\n",
       "[53305 rows x 8 columns]"
      ]
     },
     "execution_count": 10,
     "metadata": {},
     "output_type": "execute_result"
    }
   ],
   "source": [
    "# Detect history of present illness in text (n = 2641 records without HoPI data)\n",
    "df_hopi = df[df[\"HOPI\"] != \"\"].reset_index()\n",
    "\n",
    "missing = df[df[\"HOPI\"] == \"\"].reset_index()\n",
    "\n",
    "len(missing)\n",
    "\n",
    "# Should be 2641 records\n",
    "print(\"Notes without HOPI sections: \" + str(len(missing)))\n",
    "\n",
    "df_hopi"
   ]
  },
  {
   "cell_type": "markdown",
   "id": "87147948",
   "metadata": {},
   "source": [
    "### Initialize Stanford Tokenizer"
   ]
  },
  {
   "cell_type": "code",
   "execution_count": 11,
   "id": "d43fe6ad",
   "metadata": {},
   "outputs": [],
   "source": [
    "# Add the jar and model via their path (instead of setting environment variables):\n",
    "jar = root + 'stanford-postagger-full-2020-11-17/stanford-postagger.jar'\n",
    "model = root + 'stanford-postagger-full-2020-11-17/models/english-left3words-distsim.tagger'\n",
    "\n",
    "pos_tagger = StanfordPOSTagger(model, jar, encoding='utf8')\n",
    "\n",
    "# Add other jars from Stanford directory\n",
    "stanford_dir = pos_tagger._stanford_jar.rpartition('/')[0]\n",
    "stanford_jars = find_jars_within_path(stanford_dir)\n",
    "pos_tagger._stanford_jar = ':'.join(stanford_jars)"
   ]
  },
  {
   "cell_type": "markdown",
   "id": "807f5515",
   "metadata": {},
   "source": [
    "### Tokenize, Remove Punctuation and Stop Words"
   ]
  },
  {
   "cell_type": "code",
   "execution_count": 12,
   "id": "da236dca",
   "metadata": {
    "scrolled": true
   },
   "outputs": [
    {
     "name": "stdout",
     "output_type": "stream",
     "text": [
      "0\n"
     ]
    },
    {
     "data": {
      "text/plain": [
       "':\\nMr. Known is a 55 yo man with PMH significant for Downs\\nSyndrome, MRSA pneumonia and respiratory failure in [**10/2187**]\\nresulti10 tomy which was reversed [**2188-5-13**], who is\\ntransfer2188 ubation at [**Hospital1 **] in [**Location (un) 1110**Hospital1 had been pLocation ce developing MRSA\\npneumonia in [**10/2187**] (first [**Last Name (un) **] and then [**Hospital 5210 nters) and presentLast  from rehab for respiratorHospital been started on Rocephin [**5-22**] for preHospital1 t Rehab in setting of labored breathing.  Patient was\\nintubated at [**Hospita5 labored breathing, accessory muscle\\nuse.  Per report, there may have been some failed attempt in OSHHospital1 s tracheostomy prior to intubation.\\n.\\nAt OSH, patient received, levoquin 750mg @ 03:25, Vancomycin 1g\\n@ 5:09 for pneumonia.  He was ordered for 4L NS and received at\\nleast 2.5L. CXR and CT Chest appeared to show some fluid\\noverload.  Patient was difficult to maintain on sedation; blood\\npressure dropped on propofol, so patient was briefly on dopamine\\nuntil sedation was switched to versed boluses prn, which he\\ntolerated well.  Trach site had some serosanguinous fluid\\nleakage, so it was covered with guaze and tegaderm.  Respiratory\\ntherapist in ED confirmed no air leakage while on the\\nventilator.  Patient was transfered to [**Hospital1 18**] for further\\nmanagement.\\n.\\nIn ED, initial VS were as follows: 99.9 (Rectal temp) 101\\n174/100 22 98% on ventilaHospital1  He was given 1amp\\nD50 for a blood sugar of 69.  He also received 250cc of IVF and\\n2.5mg bolus of IV versed for sedation while ventilated. EKG\\nshowed sinus tach with rate 103.  CXR showed fluid overload with\\npossible consolidation, so CTA of chest was done to further\\ncharacterize ?consolidation and rule out PE.  CTA showed no\\nsigns of PE and confirmed RUL and RML pneumonia, as well as\\nfluid filled esophagus, suggesting aspiration. CT also showed\\nmoderate left and small right effusions, but no pulmonary edema.\\n Vitals in ED prior to transfer to ICU were as follows: 99.8F HR\\n91  BP 92/53  RR 16  O2sat100% cpap FIO2 60%, PS 10, PEEP 5.\\n.\\nOn arrival to the unit, patient is mechanically ventilated and\\nappears comfortable.  He is accompanied by his sister who was\\nable to corroborate the above story. Of note, the patient is\\nnon-verbal at baseline but does make some signs, only eats\\nicecream and [**Last Name (un) **] tea by mouth (for pleasure) and is otherwise\\nfed through tube feeds.\\n.Last '"
      ]
     },
     "execution_count": 12,
     "metadata": {},
     "output_type": "execute_result"
    }
   ],
   "source": [
    "# THIS CELL WILL BE REMOVED \n",
    "# For testing out other possible HOPI section headers\n",
    "\n",
    "#PREOPERATIVE DIAGNOSIS (n = 6)\n",
    "#ADMISSION DIAGNOSIS(es) (n = 38)(n = 45)\n",
    "#ADMITTING DIAGNOSES (n = 7)\n",
    "#HOSPITAL COURSE\n",
    "#REASON FOR ADMISSION\n",
    "\n",
    "ms = missing[\"TEXT\"].map(lambda t: re.search(\"\\nHISTORY:\", t))\n",
    "m = missing[~ms.isna()].reset_index()\n",
    "\n",
    "cap = 138\n",
    "lw = 15\n",
    "lwlw = 12\n",
    "hpi = 2\n",
    "crs = 951\n",
    "print(len(m))\n",
    "#print(m[\"TEXT\"][1])\n",
    "\n",
    "#missing[\"TEXT\"].to_csv(root + \"no hopi.csv\"\n",
    "\n",
    "df[\"HOPI\"][8]\n"
   ]
  },
  {
   "cell_type": "code",
   "execution_count": 13,
   "id": "62eba9a0",
   "metadata": {},
   "outputs": [],
   "source": [
    "# Remove punctuation, non-characters, etc. \n",
    "df_hopi[\"HOPI\"] = df_hopi[\"HOPI\"].apply(lambda x: re.sub('\\[\\*\\*[^\\]]*\\*\\*\\]', '', x))\n",
    "df_hopi[\"HOPI\"] = df_hopi[\"HOPI\"].apply(lambda x: re.sub('<[^>]*>', '', x))\n",
    "df_hopi[\"HOPI\"] = df_hopi[\"HOPI\"].apply(lambda x: re.sub('[\\W]+', ' ', x))\n",
    "df_hopi[\"HOPI\"] = df_hopi[\"HOPI\"].apply(lambda x: re.sub(\"\\d+\", \" \", x))\n",
    "\n",
    "# Tokenize\n",
    "df_hopi['tokens'] = df_hopi[\"HOPI\"].map(lambda n: word_tokenize(n))"
   ]
  },
  {
   "cell_type": "markdown",
   "id": "9900b72c",
   "metadata": {},
   "source": [
    "### Truncate at 500 tokens"
   ]
  },
  {
   "cell_type": "code",
   "execution_count": 14,
   "id": "d96b2801",
   "metadata": {},
   "outputs": [
    {
     "name": "stdout",
     "output_type": "stream",
     "text": [
      "Number of HOPI sections >= 500 tokens: 1656\n"
     ]
    }
   ],
   "source": [
    "# Truncate records with more than 500 tokes (n = 1143)\n",
    "count = df_hopi['tokens'].map(lambda c: len(np.unique(c)))\n",
    "\n",
    "df_hopi[\"trunc\"] = df_hopi['tokens'].map(lambda c: np.unique(c)[0:500])\n",
    "\n",
    "print(\"Number of HOPI sections >= 500 tokens: \" + str(len(df_hopi[count>=500])))"
   ]
  },
  {
   "cell_type": "markdown",
   "id": "b841b468",
   "metadata": {},
   "source": [
    "## Plot a histogram of the Number of tokens in each HoPI document, after data preprocessing."
   ]
  },
  {
   "cell_type": "code",
   "execution_count": 15,
   "id": "3b72313d",
   "metadata": {},
   "outputs": [
    {
     "data": {
      "image/png": "[encoded data removed]",
      "text/plain": [
       "<Figure size 432x288 with 1 Axes>"
      ]
     },
     "metadata": {
      "needs_background": "light"
     },
     "output_type": "display_data"
    }
   ],
   "source": [
    "df_hopi[\"trunc_len\"] = df_hopi['trunc'].map(lambda c: len(c))\n",
    "\n",
    "plt.hist(df_hopi[\"trunc_len\"], np.arange(0, 501, 10))\n",
    "plt.show()"
   ]
  },
  {
   "cell_type": "markdown",
   "id": "b1f07c2f",
   "metadata": {},
   "source": [
    "## Split data in train, valid, and test sets\n",
    "### training (38,588 records, 69.9%), validation (5536 records, 10.0%) and testing (11,048 records, 20.0%) folds"
   ]
  },
  {
   "cell_type": "code",
   "execution_count": 17,
   "id": "c9cc17eb",
   "metadata": {},
   "outputs": [],
   "source": [
    "# Random split\n",
    "train, tst = sklearn.model_selection.train_test_split(df_hopi, test_size= 0.3, random_state=42)\n",
    "\n",
    "test, valid = sklearn.model_selection.train_test_split(tst, test_size= 0.33, random_state=42)"
   ]
  },
  {
   "cell_type": "code",
   "execution_count": 837,
   "id": "c530173e",
   "metadata": {},
   "outputs": [
    {
     "data": {
      "text/plain": [
       "37313"
      ]
     },
     "execution_count": 837,
     "metadata": {},
     "output_type": "execute_result"
    }
   ],
   "source": [
    "# Get percentage of data in each set"
   ]
  },
  {
   "cell_type": "markdown",
   "id": "3d6f8d07",
   "metadata": {},
   "source": [
    "## Count number of tokens in the training dataset (n = ~92,468 tokens)"
   ]
  },
  {
   "cell_type": "code",
   "execution_count": 18,
   "id": "790c81fd",
   "metadata": {},
   "outputs": [],
   "source": [
    "# Count occurence of tokens that are in the training dataset\n",
    "n = len(np.unique(np.concatenate(train[\"trunc\"].values)))\n",
    "occ = Counter(np.concatenate(train[\"trunc\"].values))\n",
    "             \n",
    "# Tokens that occur >= 5 times are in the study vocabulary (should be ~19,503)\n",
    "vocab = [k for k,v in occ.items() if v >= 5]\n",
    "len(vocab)\n",
    "\n",
    "# Assign a unique integer ID for each token in the study vocabulary \n",
    "vocab_lookup = dict(zip(vocab, np.arange(0, len(vocab), 1)))\n",
    "\n",
    "# Convert each HoPI document to a 1D array of integers using this index\n",
    "df_hopi[\"trunc_idx\"] = df_hopi[\"trunc\"].map(lambda x: [vocab_lookup.get(i) for i in x if i in vocab_lookup.keys()])"
   ]
  },
  {
   "cell_type": "markdown",
   "id": "b180a12e",
   "metadata": {},
   "source": [
    "# Document representation"
   ]
  },
  {
   "cell_type": "code",
   "execution_count": 19,
   "id": "04e11ad3",
   "metadata": {},
   "outputs": [
    {
     "ename": "KeyError",
     "evalue": "1",
     "output_type": "error",
     "traceback": [
      "\u001b[0;31m---------------------------------------------------------------------------\u001b[0m",
      "\u001b[0;31mKeyError\u001b[0m                                  Traceback (most recent call last)",
      "\u001b[0;32m~/opt/anaconda3/lib/python3.8/site-packages/pandas/core/indexes/base.py\u001b[0m in \u001b[0;36mget_loc\u001b[0;34m(self, key, method, tolerance)\u001b[0m\n\u001b[1;32m   3079\u001b[0m             \u001b[0;32mtry\u001b[0m\u001b[0;34m:\u001b[0m\u001b[0;34m\u001b[0m\u001b[0;34m\u001b[0m\u001b[0m\n\u001b[0;32m-> 3080\u001b[0;31m                 \u001b[0;32mreturn\u001b[0m \u001b[0mself\u001b[0m\u001b[0;34m.\u001b[0m\u001b[0m_engine\u001b[0m\u001b[0;34m.\u001b[0m\u001b[0mget_loc\u001b[0m\u001b[0;34m(\u001b[0m\u001b[0mcasted_key\u001b[0m\u001b[0;34m)\u001b[0m\u001b[0;34m\u001b[0m\u001b[0;34m\u001b[0m\u001b[0m\n\u001b[0m\u001b[1;32m   3081\u001b[0m             \u001b[0;32mexcept\u001b[0m \u001b[0mKeyError\u001b[0m \u001b[0;32mas\u001b[0m \u001b[0merr\u001b[0m\u001b[0;34m:\u001b[0m\u001b[0;34m\u001b[0m\u001b[0;34m\u001b[0m\u001b[0m\n",
      "\u001b[0;32mpandas/_libs/index.pyx\u001b[0m in \u001b[0;36mpandas._libs.index.IndexEngine.get_loc\u001b[0;34m()\u001b[0m\n",
      "\u001b[0;32mpandas/_libs/index.pyx\u001b[0m in \u001b[0;36mpandas._libs.index.IndexEngine.get_loc\u001b[0;34m()\u001b[0m\n",
      "\u001b[0;32mpandas/_libs/hashtable_class_helper.pxi\u001b[0m in \u001b[0;36mpandas._libs.hashtable.Int64HashTable.get_item\u001b[0;34m()\u001b[0m\n",
      "\u001b[0;32mpandas/_libs/hashtable_class_helper.pxi\u001b[0m in \u001b[0;36mpandas._libs.hashtable.Int64HashTable.get_item\u001b[0;34m()\u001b[0m\n",
      "\u001b[0;31mKeyError\u001b[0m: 1",
      "\nThe above exception was the direct cause of the following exception:\n",
      "\u001b[0;31mKeyError\u001b[0m                                  Traceback (most recent call last)",
      "\u001b[0;32m<ipython-input-19-77f04f0747e9>\u001b[0m in \u001b[0;36m<module>\u001b[0;34m\u001b[0m\n\u001b[1;32m      3\u001b[0m \u001b[0;34m\u001b[0m\u001b[0m\n\u001b[1;32m      4\u001b[0m \u001b[0mvectorizer\u001b[0m \u001b[0;34m=\u001b[0m \u001b[0mCountVectorizer\u001b[0m\u001b[0;34m(\u001b[0m\u001b[0;34m)\u001b[0m\u001b[0;34m\u001b[0m\u001b[0;34m\u001b[0m\u001b[0m\n\u001b[0;32m----> 5\u001b[0;31m \u001b[0mX\u001b[0m \u001b[0;34m=\u001b[0m \u001b[0mvectorizer\u001b[0m\u001b[0;34m.\u001b[0m\u001b[0mfit_transform\u001b[0m\u001b[0;34m(\u001b[0m\u001b[0mnp\u001b[0m\u001b[0;34m.\u001b[0m\u001b[0mconcatenate\u001b[0m\u001b[0;34m(\u001b[0m\u001b[0mtrain\u001b[0m\u001b[0;34m[\u001b[0m\u001b[0;34m\"trunc\"\u001b[0m\u001b[0;34m]\u001b[0m\u001b[0;34m)\u001b[0m\u001b[0;34m)\u001b[0m\u001b[0;34m\u001b[0m\u001b[0;34m\u001b[0m\u001b[0m\n\u001b[0m\u001b[1;32m      6\u001b[0m \u001b[0;34m\u001b[0m\u001b[0m\n\u001b[1;32m      7\u001b[0m \u001b[0mvectorizer\u001b[0m\u001b[0;34m.\u001b[0m\u001b[0mget_feature_names_out\u001b[0m\u001b[0;34m(\u001b[0m\u001b[0;34m)\u001b[0m\u001b[0;34m\u001b[0m\u001b[0;34m\u001b[0m\u001b[0m\n",
      "\u001b[0;32m<__array_function__ internals>\u001b[0m in \u001b[0;36mconcatenate\u001b[0;34m(*args, **kwargs)\u001b[0m\n",
      "\u001b[0;32m~/opt/anaconda3/lib/python3.8/site-packages/pandas/core/series.py\u001b[0m in \u001b[0;36m__getitem__\u001b[0;34m(self, key)\u001b[0m\n\u001b[1;32m    851\u001b[0m \u001b[0;34m\u001b[0m\u001b[0m\n\u001b[1;32m    852\u001b[0m         \u001b[0;32melif\u001b[0m \u001b[0mkey_is_scalar\u001b[0m\u001b[0;34m:\u001b[0m\u001b[0;34m\u001b[0m\u001b[0;34m\u001b[0m\u001b[0m\n\u001b[0;32m--> 853\u001b[0;31m             \u001b[0;32mreturn\u001b[0m \u001b[0mself\u001b[0m\u001b[0;34m.\u001b[0m\u001b[0m_get_value\u001b[0m\u001b[0;34m(\u001b[0m\u001b[0mkey\u001b[0m\u001b[0;34m)\u001b[0m\u001b[0;34m\u001b[0m\u001b[0;34m\u001b[0m\u001b[0m\n\u001b[0m\u001b[1;32m    854\u001b[0m \u001b[0;34m\u001b[0m\u001b[0m\n\u001b[1;32m    855\u001b[0m         \u001b[0;32mif\u001b[0m \u001b[0mis_hashable\u001b[0m\u001b[0;34m(\u001b[0m\u001b[0mkey\u001b[0m\u001b[0;34m)\u001b[0m\u001b[0;34m:\u001b[0m\u001b[0;34m\u001b[0m\u001b[0;34m\u001b[0m\u001b[0m\n",
      "\u001b[0;32m~/opt/anaconda3/lib/python3.8/site-packages/pandas/core/series.py\u001b[0m in \u001b[0;36m_get_value\u001b[0;34m(self, label, takeable)\u001b[0m\n\u001b[1;32m    959\u001b[0m \u001b[0;34m\u001b[0m\u001b[0m\n\u001b[1;32m    960\u001b[0m         \u001b[0;31m# Similar to Index.get_value, but we do not fall back to positional\u001b[0m\u001b[0;34m\u001b[0m\u001b[0;34m\u001b[0m\u001b[0;34m\u001b[0m\u001b[0m\n\u001b[0;32m--> 961\u001b[0;31m         \u001b[0mloc\u001b[0m \u001b[0;34m=\u001b[0m \u001b[0mself\u001b[0m\u001b[0;34m.\u001b[0m\u001b[0mindex\u001b[0m\u001b[0;34m.\u001b[0m\u001b[0mget_loc\u001b[0m\u001b[0;34m(\u001b[0m\u001b[0mlabel\u001b[0m\u001b[0;34m)\u001b[0m\u001b[0;34m\u001b[0m\u001b[0;34m\u001b[0m\u001b[0m\n\u001b[0m\u001b[1;32m    962\u001b[0m         \u001b[0;32mreturn\u001b[0m \u001b[0mself\u001b[0m\u001b[0;34m.\u001b[0m\u001b[0mindex\u001b[0m\u001b[0;34m.\u001b[0m\u001b[0m_get_values_for_loc\u001b[0m\u001b[0;34m(\u001b[0m\u001b[0mself\u001b[0m\u001b[0;34m,\u001b[0m \u001b[0mloc\u001b[0m\u001b[0;34m,\u001b[0m \u001b[0mlabel\u001b[0m\u001b[0;34m)\u001b[0m\u001b[0;34m\u001b[0m\u001b[0;34m\u001b[0m\u001b[0m\n\u001b[1;32m    963\u001b[0m \u001b[0;34m\u001b[0m\u001b[0m\n",
      "\u001b[0;32m~/opt/anaconda3/lib/python3.8/site-packages/pandas/core/indexes/base.py\u001b[0m in \u001b[0;36mget_loc\u001b[0;34m(self, key, method, tolerance)\u001b[0m\n\u001b[1;32m   3080\u001b[0m                 \u001b[0;32mreturn\u001b[0m \u001b[0mself\u001b[0m\u001b[0;34m.\u001b[0m\u001b[0m_engine\u001b[0m\u001b[0;34m.\u001b[0m\u001b[0mget_loc\u001b[0m\u001b[0;34m(\u001b[0m\u001b[0mcasted_key\u001b[0m\u001b[0;34m)\u001b[0m\u001b[0;34m\u001b[0m\u001b[0;34m\u001b[0m\u001b[0m\n\u001b[1;32m   3081\u001b[0m             \u001b[0;32mexcept\u001b[0m \u001b[0mKeyError\u001b[0m \u001b[0;32mas\u001b[0m \u001b[0merr\u001b[0m\u001b[0;34m:\u001b[0m\u001b[0;34m\u001b[0m\u001b[0;34m\u001b[0m\u001b[0m\n\u001b[0;32m-> 3082\u001b[0;31m                 \u001b[0;32mraise\u001b[0m \u001b[0mKeyError\u001b[0m\u001b[0;34m(\u001b[0m\u001b[0mkey\u001b[0m\u001b[0;34m)\u001b[0m \u001b[0;32mfrom\u001b[0m \u001b[0merr\u001b[0m\u001b[0;34m\u001b[0m\u001b[0;34m\u001b[0m\u001b[0m\n\u001b[0m\u001b[1;32m   3083\u001b[0m \u001b[0;34m\u001b[0m\u001b[0m\n\u001b[1;32m   3084\u001b[0m         \u001b[0;32mif\u001b[0m \u001b[0mtolerance\u001b[0m \u001b[0;32mis\u001b[0m \u001b[0;32mnot\u001b[0m \u001b[0;32mNone\u001b[0m\u001b[0;34m:\u001b[0m\u001b[0;34m\u001b[0m\u001b[0;34m\u001b[0m\u001b[0m\n",
      "\u001b[0;31mKeyError\u001b[0m: 1"
     ]
    }
   ],
   "source": [
    "# Represent clinical notes documents as TF-IDF representation\n",
    "#skt.TfidfVectorizer().fit_transform(df_hopi[\"trunc\"])\n",
    "\n",
    "vectorizer = CountVectorizer()\n",
    "X = vectorizer.fit_transform(np.concatenate(train[\"trunc\"]))\n",
    "\n",
    "vectorizer.get_feature_names_out()"
   ]
  },
  {
   "cell_type": "code",
   "execution_count": null,
   "id": "e46938b7",
   "metadata": {},
   "outputs": [],
   "source": [
    "# Mean embedding representation"
   ]
  },
  {
   "cell_type": "code",
   "execution_count": null,
   "id": "b50a05ea",
   "metadata": {},
   "outputs": [],
   "source": [
    "# GRU representation"
   ]
  },
  {
   "cell_type": "markdown",
   "id": "9bb2746c",
   "metadata": {},
   "source": [
    "# Label representation"
   ]
  },
  {
   "cell_type": "code",
   "execution_count": null,
   "id": "f52edb08",
   "metadata": {},
   "outputs": [],
   "source": []
  }
 ],
 "metadata": {
  "kernelspec": {
   "display_name": "Python 3",
   "language": "python",
   "name": "python3"
  },
  "language_info": {
   "codemirror_mode": {
    "name": "ipython",
    "version": 3
   },
   "file_extension": ".py",
   "mimetype": "text/x-python",
   "name": "python",
   "nbconvert_exporter": "python",
   "pygments_lexer": "ipython3",
   "version": "3.8.8"
  }
 },
 "nbformat": 4,
 "nbformat_minor": 5
}
